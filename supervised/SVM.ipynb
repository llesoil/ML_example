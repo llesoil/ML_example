{
 "cells": [
  {
   "cell_type": "markdown",
   "metadata": {},
   "source": [
    "# Support Vector Machine\n",
    "\n",
    "Or how to draw magic lines"
   ]
  },
  {
   "cell_type": "code",
   "execution_count": 4,
   "metadata": {},
   "outputs": [],
   "source": [
    "import numpy as np\n",
    "import pandas as pd\n",
    "import matplotlib.pyplot as plt\n",
    "\n",
    "from sklearn.model_selection import train_test_split, cross_val_score\n",
    "from sklearn.svm import SVR\n",
    "# support vector regression\n",
    "# SVC - support vector classifier for classification"
   ]
  },
  {
   "cell_type": "code",
   "execution_count": 5,
   "metadata": {},
   "outputs": [],
   "source": [
    "happy = pd.read_csv(\"./data/happiness.csv\", usecols=[1,2,3])\n",
    "\n",
    "#dependent variable\n",
    "y = happy['happy']\n",
    "\n",
    "# explaining variables\n",
    "X = happy[['temp', 'fish']]\n",
    "\n",
    "# _train related to the training set, _test to the testing set\n",
    "X_train, X_test, y_train, y_test = train_test_split(X, y, test_size=0.25)"
   ]
  },
  {
   "cell_type": "markdown",
   "metadata": {},
   "source": [
    "# Learning\n",
    "\n",
    "You separate your data with hyperplans (lines for 2 dimension spaces, plans for 3 dim spaces, n-1 dim space for n dim space), and form subsets of data.\n",
    "\n",
    "It could be used to do classification and clustering (i.e. a box delimited by hyperplans is either part of a class, or a cluster)."
   ]
  },
  {
   "cell_type": "code",
   "execution_count": 7,
   "metadata": {},
   "outputs": [
    {
     "data": {
      "text/plain": [
       "array([4.0441075 , 1.21878   , 3.2261396 , 1.66585833, 1.87764144,\n",
       "       1.36681729, 4.08497618, 2.24217742, 3.67860407, 4.06568437,\n",
       "       3.43894128, 2.21726804, 4.88512538, 3.08704411, 3.43039011,\n",
       "       2.90955484, 0.79881446, 1.13421933, 4.56779279, 1.99717527,\n",
       "       0.58322079, 1.49619412, 0.63874301, 4.30202041, 1.03156855,\n",
       "       2.69342703, 1.92538231, 2.5463233 , 1.54836011, 1.53792275,\n",
       "       3.9236256 , 1.12136847, 4.43181051, 1.30289963, 4.11001612,\n",
       "       2.01388122, 1.83134177, 1.89140298, 4.03907968, 2.61293771,\n",
       "       3.74716025, 0.87592176, 2.92793178, 0.83900898, 3.28306149,\n",
       "       1.03875268, 4.447112  , 4.778216  , 2.72136543, 3.47508472,\n",
       "       3.30925951, 3.70764161, 2.16172336, 4.44031833, 4.51482221,\n",
       "       4.36148951, 4.7044183 , 3.96510469, 3.62495453, 2.43523085,\n",
       "       2.95579322, 3.41287122, 3.01841914, 1.07625543, 2.44614769,\n",
       "       0.99892346, 4.53635375, 0.80030592, 1.419522  , 3.25207634,\n",
       "       0.68789594, 0.75398244, 3.1046129 , 1.24943411, 0.76125433,\n",
       "       2.39316239, 2.00356373, 4.23217162, 4.56558482, 1.82744286,\n",
       "       0.99075522, 3.53370078, 3.39727209, 2.11094003, 4.04232929,\n",
       "       3.64550177, 1.06796456, 3.03017256, 4.04348674, 2.5327423 ,\n",
       "       4.02517446, 3.89157923])"
      ]
     },
     "execution_count": 7,
     "metadata": {},
     "output_type": "execute_result"
    }
   ],
   "source": [
    "svr = SVR()\n",
    "svr.fit(X_train, y_train)\n",
    "svr.predict(X_test)"
   ]
  },
  {
   "cell_type": "code",
   "execution_count": 9,
   "metadata": {},
   "outputs": [
    {
     "name": "stdout",
     "output_type": "stream",
     "text": [
      "Mean Squared Error : 0.5107725165367556\n"
     ]
    },
    {
     "data": {
      "image/png": "[encoded data removed]",
      "text/plain": [
       "<Figure size 432x288 with 1 Axes>"
      ]
     },
     "metadata": {
      "needs_background": "light"
     },
     "output_type": "display_data"
    }
   ],
   "source": [
    "#our predictions\n",
    "y_pred = svr.predict(X_test)\n",
    "\n",
    "print(\"Mean Squared Error : \"+str(np.mean((y_pred-y_test)**2)))\n",
    "\n",
    "plt.scatter(y_pred, y_test)\n",
    "plt.ylabel(\"Y test\")\n",
    "plt.xlabel(\"Y pred\")\n",
    "plt.show()"
   ]
  },
  {
   "cell_type": "code",
   "execution_count": 10,
   "metadata": {},
   "outputs": [
    {
     "data": {
      "text/plain": [
       "{'C': 1.0,\n",
       " 'cache_size': 200,\n",
       " 'coef0': 0.0,\n",
       " 'degree': 3,\n",
       " 'epsilon': 0.1,\n",
       " 'gamma': 'scale',\n",
       " 'kernel': 'rbf',\n",
       " 'max_iter': -1,\n",
       " 'shrinking': True,\n",
       " 'tol': 0.001,\n",
       " 'verbose': False}"
      ]
     },
     "execution_count": 10,
     "metadata": {},
     "output_type": "execute_result"
    }
   ],
   "source": [
    "svr.get_params()"
   ]
  },
  {
   "cell_type": "code",
   "execution_count": null,
   "metadata": {},
   "outputs": [],
   "source": []
  }
 ],
 "metadata": {
  "kernelspec": {
   "display_name": "Python 3",
   "language": "python",
   "name": "python3"
  },
  "language_info": {
   "codemirror_mode": {
    "name": "ipython",
    "version": 3
   },
   "file_extension": ".py",
   "mimetype": "text/x-python",
   "name": "python",
   "nbconvert_exporter": "python",
   "pygments_lexer": "ipython3",
   "version": "3.8.1"
  }
 },
 "nbformat": 4,
 "nbformat_minor": 4
}
