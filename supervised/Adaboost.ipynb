{
 "cells": [
  {
   "cell_type": "markdown",
   "metadata": {},
   "source": [
    "# Adaboost\n",
    "\n",
    "Like Tarzan, progressing from tree to tree\n",
    "\n",
    "Cool post there: https://towardsdatascience.com/boosting-algorithm-adaboost-b6737a9ee60c\n",
    "Warning, maths inside!"
   ]
  },
  {
   "cell_type": "markdown",
   "metadata": {},
   "source": [
    "# Import"
   ]
  },
  {
   "cell_type": "code",
   "execution_count": 3,
   "metadata": {},
   "outputs": [],
   "source": [
    "import numpy as np\n",
    "import pandas as pd\n",
    "import matplotlib.pyplot as plt\n",
    "\n",
    "from sklearn.model_selection import train_test_split, cross_val_score\n",
    "from sklearn.ensemble import AdaBoostRegressor\n",
    "# AdaBoostClassifier for classification"
   ]
  },
  {
   "cell_type": "code",
   "execution_count": 4,
   "metadata": {},
   "outputs": [],
   "source": [
    "happy = pd.read_csv(\"./data/happiness.csv\", usecols=[1,2,3])\n",
    "\n",
    "#dependent variable\n",
    "y = happy['happy']\n",
    "\n",
    "# explaining variables\n",
    "X = happy[['temp', 'fish']]\n",
    "\n",
    "# _train related to the training set, _test to the testing set\n",
    "X_train, X_test, y_train, y_test = train_test_split(X, y, test_size=0.25)"
   ]
  },
  {
   "cell_type": "markdown",
   "metadata": {},
   "source": [
    "## Learning\n",
    "\n",
    "With adaboost, you weight each line of your dataset (at first each line has the same weight)\n",
    "\n",
    "You predict the results with a decision tree, and update the weights; you attribute bigger weights to bad predicted lines of the dataset, so the following trees will have the 'duty' to predict right these lines, and correct the current mistakes!"
   ]
  },
  {
   "cell_type": "code",
   "execution_count": 6,
   "metadata": {},
   "outputs": [
    {
     "data": {
      "text/plain": [
       "array([1.55675711, 1.63541051, 1.74023661, 2.49533354, 1.63541051,\n",
       "       2.93663513, 4.21331892, 1.36906712, 4.21331892, 3.33147431,\n",
       "       3.70385555, 4.21331892, 3.49407894, 1.36906712, 4.21331892,\n",
       "       2.68063457, 3.39168527, 1.10809648, 1.51408707, 4.21331892,\n",
       "       3.69574257, 2.78313207, 3.59812713, 2.76920475, 3.69574257,\n",
       "       3.69574257, 3.70385555, 1.10184485, 4.15088505, 1.10184485,\n",
       "       1.10809648, 1.74023661, 3.65281649, 1.10184485, 3.69574257,\n",
       "       1.4871057 , 3.70385555, 1.78109926, 1.2688449 , 2.78313207,\n",
       "       1.55675711, 1.55675711, 4.15088505, 1.36906712, 3.65281649,\n",
       "       3.65281649, 3.70385555, 3.39168527, 1.55675711, 3.39168527,\n",
       "       2.78313207, 1.74023661, 2.72706979, 3.48143862, 1.55675711,\n",
       "       3.48143862, 1.2688449 , 1.2688449 , 1.85402926, 1.10809648,\n",
       "       2.7256638 , 2.68063457, 4.21331892, 2.68063457, 2.49251815,\n",
       "       2.76920475, 3.39168527, 2.48234695, 1.08516787, 4.11160378,\n",
       "       2.97717197, 1.4871057 , 3.70385555, 1.55675711, 1.36906712,\n",
       "       2.68063457, 2.78313207, 3.27125476, 1.74023661, 1.10184485,\n",
       "       2.72706979, 1.74023661, 1.95908099, 3.65281649, 1.10184485,\n",
       "       4.21331892, 3.78793766, 1.10184485, 3.48143862, 3.65281649,\n",
       "       1.95908099, 1.10184485])"
      ]
     },
     "execution_count": 6,
     "metadata": {},
     "output_type": "execute_result"
    }
   ],
   "source": [
    "ada =  AdaBoostRegressor()\n",
    "ada.fit(X_train, y_train)\n",
    "ada.predict(X_test)"
   ]
  },
  {
   "cell_type": "code",
   "execution_count": 9,
   "metadata": {},
   "outputs": [
    {
     "name": "stdout",
     "output_type": "stream",
     "text": [
      "Mean Squared Error : 0.7224074954470254\n"
     ]
    },
    {
     "data": {
      "image/png": "[encoded data removed]",
      "text/plain": [
       "<Figure size 432x288 with 1 Axes>"
      ]
     },
     "metadata": {
      "needs_background": "light"
     },
     "output_type": "display_data"
    }
   ],
   "source": [
    "#our predictions\n",
    "y_pred = ada.predict(X_test)\n",
    "\n",
    "print(\"Mean Squared Error : \"+str(np.mean((y_pred-y_test)**2)))\n",
    "\n",
    "plt.scatter(y_pred, y_test)\n",
    "plt.ylabel(\"Y test\")\n",
    "plt.xlabel(\"Y pred\")\n",
    "plt.show()"
   ]
  },
  {
   "cell_type": "code",
   "execution_count": 10,
   "metadata": {},
   "outputs": [
    {
     "data": {
      "text/plain": [
       "{'base_estimator': None,\n",
       " 'learning_rate': 1.0,\n",
       " 'loss': 'linear',\n",
       " 'n_estimators': 50,\n",
       " 'random_state': None}"
      ]
     },
     "execution_count": 10,
     "metadata": {},
     "output_type": "execute_result"
    }
   ],
   "source": [
    "ada.get_params()"
   ]
  },
  {
   "cell_type": "markdown",
   "metadata": {},
   "source": [
    "Where:\n",
    "- base estimator : you can use other learning algorithms than trees if you specify it\n",
    "- learning_rate : a measure of how you use the previous steps of boosting in the next step. With a learning_rate close to 0, you will not use previous knowledge a lot, so you will need more steps to reach the same result, and it will last longer, but it's safe to keep that low.\n",
    "- loss : you update the weights thanks to the comparison between the prediction and the true values. That's the related loss function\n",
    "- n_estimator : the maximal number of trees (or base_estimator) you use in the process\n",
    "\n",
    "In the literature, they say that adaboost is sensible to noise.\n",
    "\n",
    "To be honest, I didn't realized that, so you're up to test it!"
   ]
  },
  {
   "cell_type": "code",
   "execution_count": null,
   "metadata": {},
   "outputs": [],
   "source": []
  }
 ],
 "metadata": {
  "kernelspec": {
   "display_name": "Python 3",
   "language": "python",
   "name": "python3"
  },
  "language_info": {
   "codemirror_mode": {
    "name": "ipython",
    "version": 3
   },
   "file_extension": ".py",
   "mimetype": "text/x-python",
   "name": "python",
   "nbconvert_exporter": "python",
   "pygments_lexer": "ipython3",
   "version": "3.8.1"
  }
 },
 "nbformat": 4,
 "nbformat_minor": 4
}
