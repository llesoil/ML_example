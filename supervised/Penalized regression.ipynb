{
 "cells": [
  {
   "cell_type": "markdown",
   "metadata": {},
   "source": [
    "# Penalized regression\n",
    "\n",
    "Another way to select some features"
   ]
  },
  {
   "cell_type": "code",
   "execution_count": 1,
   "metadata": {},
   "outputs": [],
   "source": [
    "import numpy as np\n",
    "import pandas as pd\n",
    "import matplotlib.pyplot as plt\n",
    "\n",
    "from sklearn.model_selection import train_test_split\n",
    "from sklearn.linear_model import ElasticNet"
   ]
  },
  {
   "cell_type": "code",
   "execution_count": 2,
   "metadata": {},
   "outputs": [],
   "source": [
    "fish = pd.read_csv(\"./data/fish.csv\", usecols=np.arange(1,20,1))\n",
    "\n",
    "#dependent variable\n",
    "y = fish['health']\n",
    "\n",
    "# explaining variables\n",
    "names = fish.columns[1:len(fish.columns)]\n",
    "X = fish[names]\n",
    "\n",
    "# _train related to the training set, _test to the testing set\n",
    "X_train, X_test, y_train, y_test = train_test_split(X, y, test_size=0.25)"
   ]
  },
  {
   "cell_type": "markdown",
   "metadata": {},
   "source": [
    "# Learning\n",
    "\n",
    "Penalized regression adds a sum of coefficients (i.e. the weights we find in a linear regression) to the loss function.\n",
    "\n",
    "With that penalty, we're trying to predict the values of the variable of interest with a minimal number of features (with respect to the parcimony principle-Occam razor).\n",
    "\n",
    "Adding a l1 penalty -> LASSO regression (Least Absolute Shrinkage and Selection Operator)\n",
    "\n",
    "Adding a l2 penalty -> Ridge regression\n",
    "\n",
    "Adding a weighted sum of l1 and l2 penalty -> Elasticnet"
   ]
  },
  {
   "cell_type": "code",
   "execution_count": 3,
   "metadata": {},
   "outputs": [
    {
     "data": {
      "text/plain": [
       "ElasticNet(alpha=1.0, copy_X=True, fit_intercept=True, l1_ratio=1,\n",
       "           max_iter=1000, normalize=False, positive=False, precompute=False,\n",
       "           random_state=None, selection='cyclic', tol=0.0001, warm_start=False)"
      ]
     },
     "execution_count": 3,
     "metadata": {},
     "output_type": "execute_result"
    }
   ],
   "source": [
    "enr = ElasticNet(l1_ratio = 1)\n",
    "# l1_ratio = 1 -> Lasso\n",
    "# l1_ratio = 0 -> ridge\n",
    "# 0 < l1_ratio < 1 -> elasticnet\n",
    "enr.fit(X_train, y_train)"
   ]
  },
  {
   "cell_type": "markdown",
   "metadata": {},
   "source": [
    "Let's take a look at the regression coefficients"
   ]
  },
  {
   "cell_type": "code",
   "execution_count": 4,
   "metadata": {
    "scrolled": true
   },
   "outputs": [
    {
     "data": {
      "text/plain": [
       "array([ 0.10767492,  0.12779911,  0.        , -0.        ,  0.        ,\n",
       "       -0.        ,  0.        ,  0.        ,  0.        , -0.        ,\n",
       "        0.        , -0.        , -0.        ,  0.        , -0.        ,\n",
       "       -0.        , -0.        ,  0.        ])"
      ]
     },
     "execution_count": 4,
     "metadata": {},
     "output_type": "execute_result"
    }
   ],
   "source": [
    "enr.coef_"
   ]
  },
  {
   "cell_type": "markdown",
   "metadata": {},
   "source": [
    "Two features seems to be important, the first ones"
   ]
  },
  {
   "cell_type": "code",
   "execution_count": 5,
   "metadata": {},
   "outputs": [
    {
     "data": {
      "text/plain": [
       "array([0, 1])"
      ]
     },
     "execution_count": 5,
     "metadata": {},
     "output_type": "execute_result"
    }
   ],
   "source": [
    "selection = np.where(enr.coef_!=0)[0]\n",
    "selection"
   ]
  },
  {
   "cell_type": "markdown",
   "metadata": {},
   "source": [
    "We could sort the cofficients by their absolute values, if there are still too much coefficients"
   ]
  },
  {
   "cell_type": "code",
   "execution_count": 6,
   "metadata": {},
   "outputs": [
    {
     "data": {
      "text/plain": [
       "array([2.94447449, 2.65640397, 1.93570478, 2.77015405, 3.09600126,\n",
       "       2.02314649, 2.79544388, 2.40588705, 2.26881053, 3.15625117,\n",
       "       1.76804777, 2.29620637, 2.40493953, 2.58299051, 2.59390673,\n",
       "       1.82054605, 2.15489697, 2.75090485, 2.22793251, 2.5088841 ,\n",
       "       2.77624516, 2.98619748, 2.30574148, 2.13122788, 2.16127429,\n",
       "       3.27785179, 2.18806778, 2.47267403, 3.38999694, 2.51067561,\n",
       "       1.64027854, 2.07949327, 2.27861796, 1.98341   , 2.28926791,\n",
       "       2.61854895, 3.02413612, 2.62884601, 3.2551147 , 2.36304266,\n",
       "       3.06736013, 2.2883037 , 2.05469097, 1.93181838, 2.72428533,\n",
       "       2.12751009, 2.6389812 , 2.12992932, 1.72402461, 2.33816173,\n",
       "       2.12760839, 2.58168708, 3.11990403, 2.56393209, 2.30131295,\n",
       "       2.89020867, 2.88466628, 2.09091088, 2.91503203, 2.49239143,\n",
       "       3.12605025, 2.1689198 , 2.50397558, 3.71318123, 2.19806026,\n",
       "       3.05796668, 2.60723349, 1.68981676, 2.74957644, 2.55499797,\n",
       "       3.00960642, 2.01061056, 2.99074627, 2.18545095, 1.6904164 ,\n",
       "       2.18643634, 3.25939544, 2.66660743, 2.48482561, 3.08248901,\n",
       "       3.20999049, 3.18898809, 2.50567979, 3.17882088, 2.61213701,\n",
       "       2.62215969, 3.17734547, 3.4784654 , 2.52907357, 2.50491608,\n",
       "       2.17217696, 1.75914206])"
      ]
     },
     "execution_count": 6,
     "metadata": {},
     "output_type": "execute_result"
    }
   ],
   "source": [
    "enr.predict(X_test)"
   ]
  },
  {
   "cell_type": "code",
   "execution_count": 7,
   "metadata": {},
   "outputs": [
    {
     "name": "stdout",
     "output_type": "stream",
     "text": [
      "Mean Squared Error : 1.5742829047589761\n"
     ]
    },
    {
     "data": {
      "image/png": "[encoded data removed]",
      "text/plain": [
       "<Figure size 432x288 with 1 Axes>"
      ]
     },
     "metadata": {
      "needs_background": "light"
     },
     "output_type": "display_data"
    }
   ],
   "source": [
    "#our predictions\n",
    "y_pred = enr.predict(X_test)\n",
    "\n",
    "print(\"Mean Squared Error : \"+str(np.mean((y_pred-y_test)**2)))\n",
    "\n",
    "plt.scatter(y_pred, y_test)\n",
    "plt.ylabel(\"Y test\")\n",
    "plt.xlabel(\"Y pred\")\n",
    "plt.show()"
   ]
  },
  {
   "cell_type": "code",
   "execution_count": null,
   "metadata": {},
   "outputs": [],
   "source": []
  }
 ],
 "metadata": {
  "kernelspec": {
   "display_name": "Python 3",
   "language": "python",
   "name": "python3"
  },
  "language_info": {
   "codemirror_mode": {
    "name": "ipython",
    "version": 3
   },
   "file_extension": ".py",
   "mimetype": "text/x-python",
   "name": "python",
   "nbconvert_exporter": "python",
   "pygments_lexer": "ipython3",
   "version": "3.8.1"
  }
 },
 "nbformat": 4,
 "nbformat_minor": 4
}
