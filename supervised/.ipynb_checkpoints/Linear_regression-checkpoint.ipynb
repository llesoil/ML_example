{
 "cells": [
  {
   "cell_type": "markdown",
   "metadata": {},
   "source": [
    "# Linear regression"
   ]
  },
  {
   "cell_type": "markdown",
   "metadata": {},
   "source": [
    "Or how to weight the explaining variables to fit to the variable of interest"
   ]
  },
  {
   "cell_type": "markdown",
   "metadata": {},
   "source": [
    "### Libraries"
   ]
  },
  {
   "cell_type": "code",
   "execution_count": 1,
   "metadata": {},
   "outputs": [],
   "source": [
    "import numpy as np\n",
    "import pandas as pd\n",
    "import matplotlib.pyplot as plt\n",
    "\n",
    "# statistician world regression\n",
    "import statsmodels.api as sm\n",
    "\n",
    "# Machine Learning (aka ML in my notebooks, sorry for the abbreviations) regrssion\n",
    "from sklearn.linear_model import LinearRegression\n",
    "\n",
    "# to split into training (learning part of the dataset) and test (testing part of the dataset)\n",
    "from sklearn.model_selection import train_test_split"
   ]
  },
  {
   "cell_type": "markdown",
   "metadata": {},
   "source": [
    "### Dataset"
   ]
  },
  {
   "cell_type": "code",
   "execution_count": 2,
   "metadata": {},
   "outputs": [
    {
     "data": {
      "text/html": [
       "<div>\n",
       "<style scoped>\n",
       "    .dataframe tbody tr th:only-of-type {\n",
       "        vertical-align: middle;\n",
       "    }\n",
       "\n",
       "    .dataframe tbody tr th {\n",
       "        vertical-align: top;\n",
       "    }\n",
       "\n",
       "    .dataframe thead th {\n",
       "        text-align: right;\n",
       "    }\n",
       "</style>\n",
       "<table border=\"1\" class=\"dataframe\">\n",
       "  <thead>\n",
       "    <tr style=\"text-align: right;\">\n",
       "      <th></th>\n",
       "      <th>happy</th>\n",
       "      <th>temp</th>\n",
       "      <th>fish</th>\n",
       "    </tr>\n",
       "  </thead>\n",
       "  <tbody>\n",
       "    <tr>\n",
       "      <th>0</th>\n",
       "      <td>0.484098</td>\n",
       "      <td>3.796804</td>\n",
       "      <td>0.977109</td>\n",
       "    </tr>\n",
       "    <tr>\n",
       "      <th>1</th>\n",
       "      <td>4.441049</td>\n",
       "      <td>-3.974861</td>\n",
       "      <td>5.420305</td>\n",
       "    </tr>\n",
       "    <tr>\n",
       "      <th>2</th>\n",
       "      <td>2.341838</td>\n",
       "      <td>2.217617</td>\n",
       "      <td>2.201627</td>\n",
       "    </tr>\n",
       "    <tr>\n",
       "      <th>3</th>\n",
       "      <td>3.456520</td>\n",
       "      <td>-5.435268</td>\n",
       "      <td>1.140884</td>\n",
       "    </tr>\n",
       "    <tr>\n",
       "      <th>4</th>\n",
       "      <td>3.846523</td>\n",
       "      <td>-3.710603</td>\n",
       "      <td>4.864311</td>\n",
       "    </tr>\n",
       "  </tbody>\n",
       "</table>\n",
       "</div>"
      ],
      "text/plain": [
       "      happy      temp      fish\n",
       "0  0.484098  3.796804  0.977109\n",
       "1  4.441049 -3.974861  5.420305\n",
       "2  2.341838  2.217617  2.201627\n",
       "3  3.456520 -5.435268  1.140884\n",
       "4  3.846523 -3.710603  4.864311"
      ]
     },
     "execution_count": 2,
     "metadata": {},
     "output_type": "execute_result"
    }
   ],
   "source": [
    "happy = pd.read_csv(\"./data/happiness.csv\", usecols=[1,2,3])\n",
    "happy.head()"
   ]
  },
  {
   "cell_type": "code",
   "execution_count": 3,
   "metadata": {},
   "outputs": [],
   "source": [
    "#dependent variable\n",
    "y = happy['happy']\n",
    "\n",
    "# explaining variables\n",
    "X = happy[['temp', 'fish']]\n",
    "# add constant adds good propeties to the model\n",
    "X = sm.add_constant(X)\n",
    "\n",
    "# _train related to the training set, _test to the testing set\n",
    "X_train, X_test, y_train, y_test = train_test_split(X, y, test_size=0.25)"
   ]
  },
  {
   "cell_type": "markdown",
   "metadata": {},
   "source": [
    "### Package statmodels\n",
    "\n",
    "From the statistician world (i.e. a lot of methods to describe the data, but not robust with some datasets)\n",
    "\n",
    "The regression relies on three hypothesis:\n",
    "- The residuals are centered\n",
    "- The residuals are independent\n",
    "- The residuals follow a normal law (same variance for all residuals)"
   ]
  },
  {
   "cell_type": "code",
   "execution_count": 4,
   "metadata": {},
   "outputs": [
    {
     "data": {
      "text/html": [
       "<table class=\"simpletable\">\n",
       "<caption>OLS Regression Results</caption>\n",
       "<tr>\n",
       "  <th>Dep. Variable:</th>          <td>happy</td>      <th>  R-squared:         </th> <td>   0.692</td>\n",
       "</tr>\n",
       "<tr>\n",
       "  <th>Model:</th>                   <td>OLS</td>       <th>  Adj. R-squared:    </th> <td>   0.690</td>\n",
       "</tr>\n",
       "<tr>\n",
       "  <th>Method:</th>             <td>Least Squares</td>  <th>  F-statistic:       </th> <td>   303.1</td>\n",
       "</tr>\n",
       "<tr>\n",
       "  <th>Date:</th>             <td>Thu, 14 May 2020</td> <th>  Prob (F-statistic):</th> <td>9.69e-70</td>\n",
       "</tr>\n",
       "<tr>\n",
       "  <th>Time:</th>                 <td>09:54:32</td>     <th>  Log-Likelihood:    </th> <td> -336.65</td>\n",
       "</tr>\n",
       "<tr>\n",
       "  <th>No. Observations:</th>      <td>   273</td>      <th>  AIC:               </th> <td>   679.3</td>\n",
       "</tr>\n",
       "<tr>\n",
       "  <th>Df Residuals:</th>          <td>   270</td>      <th>  BIC:               </th> <td>   690.1</td>\n",
       "</tr>\n",
       "<tr>\n",
       "  <th>Df Model:</th>              <td>     2</td>      <th>                     </th>     <td> </td>   \n",
       "</tr>\n",
       "<tr>\n",
       "  <th>Covariance Type:</th>      <td>nonrobust</td>    <th>                     </th>     <td> </td>   \n",
       "</tr>\n",
       "</table>\n",
       "<table class=\"simpletable\">\n",
       "<tr>\n",
       "    <td></td>       <th>coef</th>     <th>std err</th>      <th>t</th>      <th>P>|t|</th>  <th>[0.025</th>    <th>0.975]</th>  \n",
       "</tr>\n",
       "<tr>\n",
       "  <th>const</th> <td>    1.1130</td> <td>    0.096</td> <td>   11.627</td> <td> 0.000</td> <td>    0.925</td> <td>    1.301</td>\n",
       "</tr>\n",
       "<tr>\n",
       "  <th>temp</th>  <td>   -0.0588</td> <td>    0.009</td> <td>   -6.658</td> <td> 0.000</td> <td>   -0.076</td> <td>   -0.041</td>\n",
       "</tr>\n",
       "<tr>\n",
       "  <th>fish</th>  <td>    0.5763</td> <td>    0.033</td> <td>   17.426</td> <td> 0.000</td> <td>    0.511</td> <td>    0.641</td>\n",
       "</tr>\n",
       "</table>\n",
       "<table class=\"simpletable\">\n",
       "<tr>\n",
       "  <th>Omnibus:</th>       <td> 2.413</td> <th>  Durbin-Watson:     </th> <td>   2.272</td>\n",
       "</tr>\n",
       "<tr>\n",
       "  <th>Prob(Omnibus):</th> <td> 0.299</td> <th>  Jarque-Bera (JB):  </th> <td>   2.123</td>\n",
       "</tr>\n",
       "<tr>\n",
       "  <th>Skew:</th>          <td> 0.203</td> <th>  Prob(JB):          </th> <td>   0.346</td>\n",
       "</tr>\n",
       "<tr>\n",
       "  <th>Kurtosis:</th>      <td> 3.145</td> <th>  Cond. No.          </th> <td>    13.1</td>\n",
       "</tr>\n",
       "</table><br/><br/>Warnings:<br/>[1] Standard Errors assume that the covariance matrix of the errors is correctly specified."
      ],
      "text/plain": [
       "<class 'statsmodels.iolib.summary.Summary'>\n",
       "\"\"\"\n",
       "                            OLS Regression Results                            \n",
       "==============================================================================\n",
       "Dep. Variable:                  happy   R-squared:                       0.692\n",
       "Model:                            OLS   Adj. R-squared:                  0.690\n",
       "Method:                 Least Squares   F-statistic:                     303.1\n",
       "Date:                Thu, 14 May 2020   Prob (F-statistic):           9.69e-70\n",
       "Time:                        09:54:32   Log-Likelihood:                -336.65\n",
       "No. Observations:                 273   AIC:                             679.3\n",
       "Df Residuals:                     270   BIC:                             690.1\n",
       "Df Model:                           2                                         \n",
       "Covariance Type:            nonrobust                                         \n",
       "==============================================================================\n",
       "                 coef    std err          t      P>|t|      [0.025      0.975]\n",
       "------------------------------------------------------------------------------\n",
       "const          1.1130      0.096     11.627      0.000       0.925       1.301\n",
       "temp          -0.0588      0.009     -6.658      0.000      -0.076      -0.041\n",
       "fish           0.5763      0.033     17.426      0.000       0.511       0.641\n",
       "==============================================================================\n",
       "Omnibus:                        2.413   Durbin-Watson:                   2.272\n",
       "Prob(Omnibus):                  0.299   Jarque-Bera (JB):                2.123\n",
       "Skew:                           0.203   Prob(JB):                        0.346\n",
       "Kurtosis:                       3.145   Cond. No.                         13.1\n",
       "==============================================================================\n",
       "\n",
       "Warnings:\n",
       "[1] Standard Errors assume that the covariance matrix of the errors is correctly specified.\n",
       "\"\"\""
      ]
     },
     "execution_count": 4,
     "metadata": {},
     "output_type": "execute_result"
    }
   ],
   "source": [
    "model = sm.OLS(y_train, X_train)\n",
    "model = model.fit()\n",
    "model.summary()"
   ]
  },
  {
   "cell_type": "markdown",
   "metadata": {},
   "source": [
    "With:\n",
    "- Dep variable the dependent variable\n",
    "- Model: Ordinary Least Square (Mean Squared Error as metric)\n",
    "- Method : in ML world metric\n",
    "- [...]\n",
    "- Df = degree of freedom\n",
    "- <b>R-squared</b> is a mesure of how the model fits to the dependent variable (1 is a perfect match, 0 a bad result)\n",
    "- Adjusted R-squared is a mesure of R-quared penalized to drop with the increase of the number of independent variables\n",
    "- F statistic measures the statistic relative to the Fisher test => global validity of the model, with the null hypothesis (H0) all the coefficients are equals to 0\n",
    "- Prob F returns the related p-value, in this case with a threshold of 0.05, we reject the null hypothesis\n",
    "- Log-likelihood (see -2LL in the literature) measures how much the model explains the variation of the dependent variable. Low = great model.\n",
    "- Akaike Information Criterion (AIC) and Bayesian information criterion (BIC) measures a trade-off between the number of ind. vars used in the model and the accuracy of this model. Honestly, I never interpret this coefs, it's a feeling (in general, you feel it when you use too much variables to obtain a poor model)\n",
    "- Cov matrix (coming fom covariance matrix, between the different explaining variables). You have coeff = X(X'X)^(⁻1)X'y. Invert the matrix in the middle (X'X =/= cov) sometimes leads to failure, because you divide it by det(M), where det is the determinant of the matrix. And if you have a lot of correlated variables in your X matrix, you may have det(X'X) low or equal to 0 (if two columns are correlated, O is a proper value of M, and det is the product of all proper values); when you divide by it, you don't want it to be close to 0 :)\n",
    "- <b>The coefficient analysis table</b> (in the middle); for each explaining variables, we compute the coefficient (i.e. the weight you attribute to the variable), the standard deviation of the estimation of this coefficient (you want it to be low), the T-test (Student) statistic, where you test if your coefficient is equal to 0 (null hypothesis = my coef is 0), the p value of this test, and the confidence interval of the coef (if you want to interpret the value of a coefficient, the interval should not contain both positive and negative values).\n",
    "- Bench of advanced tests after that; there are only important for advanced users in my opinion.\n",
    "- Omnibus measures the ratio unexplained variance VS explained variance (i.e. explained by the model), null hypothesis = the model does not fit the data\n",
    "- Prob the related p-val\n",
    "- Skew measures the assymetry of residuals (should be centered in theory, in the supposed hypothesis)\n",
    "- Kurtosis measures how the tail of distribution fits to a normal distribution\n",
    "- Durbin Watson measures the autocorrelation of residuals (= errors). You don't want to find some link between your errors, that would means they are not independent.\n",
    "- Jarque Bera is a normality test applied to the residuals (as shapiro, but it implies to compare the head and tails of ditribution, which are often the problem of real distribution when we want to compare them to similar normal distribution)\n",
    "- Prob the related p-val\n",
    "\n",
    "Essential values to check are highlighted in <b>bold</b>."
   ]
  },
  {
   "cell_type": "code",
   "execution_count": 5,
   "metadata": {},
   "outputs": [
    {
     "name": "stdout",
     "output_type": "stream",
     "text": [
      "Mean Squared Error : 0.5238890415609954\n"
     ]
    },
    {
     "data": {
      "image/png": "[encoded data removed]",
      "text/plain": [
       "<Figure size 432x288 with 1 Axes>"
      ]
     },
     "metadata": {
      "needs_background": "light"
     },
     "output_type": "display_data"
    }
   ],
   "source": [
    "#our predictions\n",
    "y_pred = model.predict(X_test)\n",
    "#y_pred = 1.0722-0.0492*X_test[\"temp\"]+0.6051*X_test[\"fish\"] in my current launch\n",
    "# I don't want to include a random seed in the notebook (i.e. a different launch = same result), \n",
    "# so it will change a bit\n",
    "\n",
    "print(\"Mean Squared Error : \"+str(np.mean((y_pred-y_test)**2)))\n",
    "\n",
    "plt.scatter(y_pred, y_test)\n",
    "plt.ylabel(\"Y test\")\n",
    "plt.xlabel(\"Y pred\")\n",
    "plt.show()"
   ]
  },
  {
   "cell_type": "markdown",
   "metadata": {},
   "source": [
    "### Package Scikit-learn\n",
    "\n",
    "Simple and efficient, use it instead of OLS"
   ]
  },
  {
   "cell_type": "code",
   "execution_count": 6,
   "metadata": {},
   "outputs": [],
   "source": [
    "lin_reg = LinearRegression()\n",
    "lin_reg.fit(X_train, y_train)\n",
    "y_pred = lin_reg.predict(X_test)"
   ]
  },
  {
   "cell_type": "markdown",
   "metadata": {},
   "source": [
    "Simple, but you have to look and study carefully the results. There is a compromise to find between knowing all the above metrics and just launch the last cell :)"
   ]
  },
  {
   "cell_type": "code",
   "execution_count": 7,
   "metadata": {},
   "outputs": [
    {
     "name": "stdout",
     "output_type": "stream",
     "text": [
      "Coeff : [ 0.         -0.05882225  0.57627297]\n",
      "R2 score : 0.7231383090665641\n",
      "MSE : 0.5238890415609951\n"
     ]
    },
    {
     "data": {
      "image/png": "[encoded data removed]",
      "text/plain": [
       "<Figure size 432x288 with 1 Axes>"
      ]
     },
     "metadata": {
      "needs_background": "light"
     },
     "output_type": "display_data"
    }
   ],
   "source": [
    "print(\"Coeff : \"+str(lin_reg.coef_))\n",
    "print(\"R2 score : \"+str(lin_reg.score(X_test, y_test)))\n",
    "print(\"MSE : \"+str(np.mean((y_pred-y_test)**2)))\n",
    "# similar coefs and MSE\n",
    "\n",
    "plt.scatter(y_pred, y_test)\n",
    "plt.ylabel(\"Y test\")\n",
    "plt.xlabel(\"Y pred\")\n",
    "plt.show()"
   ]
  },
  {
   "cell_type": "markdown",
   "metadata": {},
   "source": [
    "You also have a scipy function linregress to do linear regression"
   ]
  },
  {
   "cell_type": "markdown",
   "metadata": {},
   "source": [
    "### Some problems you can meet\n",
    "\n",
    "- Leverage values -> a point far from the average values of distribution in term of X, that can highly change the slope of the regression -> see cook's distance\n",
    "- Abberant values -> a point far from the average values of distribution in term of y, that can highly change the result, to drop and study apart -> see studentized residuals"
   ]
  },
  {
   "cell_type": "markdown",
   "metadata": {},
   "source": [
    "### Some possible improvements for linear reg\n",
    "- Cut the dataset in interval of X, and do a regression for each interval, piecewise regression\n",
    "- Instead of selecting all the variables, do a feature selection with stepwise (combination of forward and backward, but seems to be a bad practice in the literature. To be fair, they didn't provide a lot of alternative!)"
   ]
  },
  {
   "cell_type": "markdown",
   "metadata": {},
   "source": [
    "You can do classification with logistic regression, by applying a logisic activation (i.e. compose your result by a logistic function)."
   ]
  },
  {
   "cell_type": "code",
   "execution_count": null,
   "metadata": {},
   "outputs": [],
   "source": []
  }
 ],
 "metadata": {
  "kernelspec": {
   "display_name": "Python 3",
   "language": "python",
   "name": "python3"
  },
  "language_info": {
   "codemirror_mode": {
    "name": "ipython",
    "version": 3
   },
   "file_extension": ".py",
   "mimetype": "text/x-python",
   "name": "python",
   "nbconvert_exporter": "python",
   "pygments_lexer": "ipython3",
   "version": "3.8.1"
  }
 },
 "nbformat": 4,
 "nbformat_minor": 4
}
