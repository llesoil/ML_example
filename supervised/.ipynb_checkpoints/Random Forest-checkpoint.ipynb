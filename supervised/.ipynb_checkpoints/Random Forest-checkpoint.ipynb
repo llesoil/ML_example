{
 "cells": [
  {
   "cell_type": "markdown",
   "metadata": {},
   "source": [
    "# Random Forest\n",
    "\n",
    "Or when one decision tree is not enough, and you want to use the entire forest\n",
    "\n",
    "https://towardsdatascience.com/understanding-random-forest-58381e0602d2 is cool!"
   ]
  },
  {
   "cell_type": "code",
   "execution_count": 1,
   "metadata": {},
   "outputs": [],
   "source": [
    "import numpy as np\n",
    "import pandas as pd\n",
    "import matplotlib.pyplot as plt\n",
    "\n",
    "from sklearn.model_selection import train_test_split, cross_val_score\n",
    "from sklearn.ensemble import RandomForestRegressor\n",
    "# RandomForestClassifier for classification"
   ]
  },
  {
   "cell_type": "code",
   "execution_count": 2,
   "metadata": {},
   "outputs": [],
   "source": [
    "happy = pd.read_csv(\"./data/happiness.csv\", usecols=[1,2,3])\n",
    "\n",
    "#dependent variable\n",
    "y = happy['happy']\n",
    "\n",
    "# explaining variables\n",
    "X = happy[['temp', 'fish']]\n",
    "\n",
    "# _train related to the training set, _test to the testing set\n",
    "X_train, X_test, y_train, y_test = train_test_split(X, y, test_size=0.25)"
   ]
  },
  {
   "cell_type": "markdown",
   "metadata": {},
   "source": [
    "## Learning"
   ]
  },
  {
   "cell_type": "markdown",
   "metadata": {},
   "source": [
    "Basically, if you understood how decision trees work, you should easily understand random forest.\n",
    "\n",
    "#### Instead of using one tree, you use multiple trees, and there is a vote to decide what values should be predicted\n",
    "\n",
    "Each tree use a part of the data, and a part of the features. It's an exploration of the space of your dataset.\n",
    "\n",
    "This exploration brings the robustness of RF."
   ]
  },
  {
   "cell_type": "code",
   "execution_count": 3,
   "metadata": {},
   "outputs": [
    {
     "data": {
      "text/plain": [
       "array([3.19145999, 0.95926237, 3.95444922, 0.63797402, 1.40285864,\n",
       "       4.54395925, 4.68995652, 2.5389771 , 1.42282577, 4.35627446,\n",
       "       3.80232255, 1.44226716, 0.85610185, 1.70512076, 1.09682861,\n",
       "       1.69950179, 2.85722988, 2.7952015 , 0.86949568, 1.96425313,\n",
       "       3.56752283, 4.54679347, 3.1701614 , 3.8111736 , 1.56688674,\n",
       "       4.54157968, 2.38074175, 4.73808172, 0.78765268, 2.84266436,\n",
       "       3.60258448, 3.28568178, 3.13392177, 2.29043704, 3.6940262 ,\n",
       "       0.49688799, 3.4711017 , 4.59033795, 3.25807501, 4.00722251,\n",
       "       0.30968874, 2.99624205, 1.61428276, 3.3736213 , 4.04051574,\n",
       "       1.76093664, 2.8027718 , 1.73783643, 0.93663282, 0.54567683,\n",
       "       0.76211283, 0.47916865, 3.95412689, 1.23987532, 2.5519374 ,\n",
       "       0.54012983, 0.89326993, 0.64925746, 3.137759  , 3.54054037,\n",
       "       0.89255241, 1.17257399, 3.7201908 , 3.02946365, 0.89798022,\n",
       "       1.14663995, 2.30062118, 3.2304109 , 3.60972963, 2.69659343,\n",
       "       0.77656784, 3.45930519, 4.5653833 , 4.71285152, 3.57662861,\n",
       "       0.8123154 , 4.61193583, 3.28503813, 4.5397229 , 3.46942161,\n",
       "       0.59857066, 4.36651301, 1.23508087, 1.52994357, 4.53023041,\n",
       "       2.20182081, 2.89876751, 3.75944028, 4.08649872, 4.02841948,\n",
       "       0.46039821, 1.62348357])"
      ]
     },
     "execution_count": 3,
     "metadata": {},
     "output_type": "execute_result"
    }
   ],
   "source": [
    "rfr =  RandomForestRegressor()\n",
    "rfr.fit(X_train, y_train)\n",
    "rfr.predict(X_test)"
   ]
  },
  {
   "cell_type": "code",
   "execution_count": 4,
   "metadata": {},
   "outputs": [
    {
     "name": "stdout",
     "output_type": "stream",
     "text": [
      "Mean Squared Error : 0.6312767407597653\n"
     ]
    },
    {
     "data": {
      "image/png": "[encoded data removed]",
      "text/plain": [
       "<Figure size 432x288 with 1 Axes>"
      ]
     },
     "metadata": {
      "needs_background": "light"
     },
     "output_type": "display_data"
    }
   ],
   "source": [
    "#our predictions\n",
    "y_pred = rfr.predict(X_test)\n",
    "\n",
    "print(\"Mean Squared Error : \"+str(np.mean((y_pred-y_test)**2)))\n",
    "\n",
    "plt.scatter(y_pred, y_test)\n",
    "plt.ylabel(\"Y test\")\n",
    "plt.xlabel(\"Y pred\")\n",
    "plt.show()"
   ]
  },
  {
   "cell_type": "code",
   "execution_count": 5,
   "metadata": {},
   "outputs": [
    {
     "data": {
      "text/plain": [
       "{'bootstrap': True,\n",
       " 'ccp_alpha': 0.0,\n",
       " 'criterion': 'mse',\n",
       " 'max_depth': None,\n",
       " 'max_features': 'auto',\n",
       " 'max_leaf_nodes': None,\n",
       " 'max_samples': None,\n",
       " 'min_impurity_decrease': 0.0,\n",
       " 'min_impurity_split': None,\n",
       " 'min_samples_leaf': 1,\n",
       " 'min_samples_split': 2,\n",
       " 'min_weight_fraction_leaf': 0.0,\n",
       " 'n_estimators': 100,\n",
       " 'n_jobs': None,\n",
       " 'oob_score': False,\n",
       " 'random_state': None,\n",
       " 'verbose': 0,\n",
       " 'warm_start': False}"
      ]
     },
     "execution_count": 5,
     "metadata": {},
     "output_type": "execute_result"
    }
   ],
   "source": [
    "rfr.get_params()"
   ]
  },
  {
   "cell_type": "markdown",
   "metadata": {},
   "source": [
    "Some parameters are just the trees parameters, so I won't describe them.\n",
    "- bootstrap if you use bootstrap (i.e. samples of your dataset). each tree will be trained on a subset of your training data (robustness++).\n",
    "- n_estimators is the number of trees you use, it's like the size of the forest. The higher it is, the longer the computation will last.\n",
    "- n_jobs is the number of jobs you use (parallel computing), it diminishes the computation time.\n",
    "- oob_score, out of bags error, to check the validity of the bootsrap (e.g. if a line is not under or over-represented)\n",
    "- verbose, True if you loooove logs :-)\n",
    "- warm_start, cf doc https://scikit-learn.org/stable/modules/generated/sklearn.ensemble.RandomForestRegressor.html\n",
    "\n",
    "One of the drawbacks of random forests is the number of parameters involved in the learning algorithm, and that you have to choose!"
   ]
  },
  {
   "cell_type": "code",
   "execution_count": null,
   "metadata": {},
   "outputs": [],
   "source": []
  }
 ],
 "metadata": {
  "kernelspec": {
   "display_name": "Python 3",
   "language": "python",
   "name": "python3"
  },
  "language_info": {
   "codemirror_mode": {
    "name": "ipython",
    "version": 3
   },
   "file_extension": ".py",
   "mimetype": "text/x-python",
   "name": "python",
   "nbconvert_exporter": "python",
   "pygments_lexer": "ipython3",
   "version": "3.8.1"
  }
 },
 "nbformat": 4,
 "nbformat_minor": 4
}
