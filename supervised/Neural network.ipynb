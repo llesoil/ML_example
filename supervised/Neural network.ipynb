{
 "cells": [
  {
   "cell_type": "markdown",
   "metadata": {},
   "source": [
    "# Neural networks\n",
    "\n",
    "Dark magic incoming..."
   ]
  },
  {
   "cell_type": "code",
   "execution_count": 1,
   "metadata": {},
   "outputs": [],
   "source": [
    "import numpy as np\n",
    "import pandas as pd\n",
    "import matplotlib.pyplot as plt\n",
    "\n",
    "from sklearn.model_selection import train_test_split\n",
    "\n",
    "from tensorflow.keras.models import Sequential\n",
    "from tensorflow.keras.layers import Dense, Activation, PReLU, Flatten, Dropout\n",
    "from tensorflow.keras.optimizers import SGD, Adam, RMSprop"
   ]
  },
  {
   "cell_type": "code",
   "execution_count": 2,
   "metadata": {},
   "outputs": [],
   "source": [
    "happy = pd.read_csv(\"./data/happiness.csv\", usecols=[1,2,3])\n",
    "\n",
    "#dependent variable\n",
    "y = happy['happy']\n",
    "\n",
    "# explaining variables\n",
    "X = happy[['temp', 'fish']]\n",
    "\n",
    "# _train related to the training set, _test to the testing set\n",
    "X_train, X_test, y_train, y_test = train_test_split(X, y, test_size=0.25)"
   ]
  },
  {
   "cell_type": "markdown",
   "metadata": {},
   "source": [
    "#### I will use keras, with tensorflow as back-end\n",
    "\n",
    "But if you want to have fine control of the algorithm, you can use tensorflow directly\n",
    "\n",
    "I will only present feedforward neural network, but there are also a large amount of different networks (Recurrent Neural Networks to work on time series, Generative Adversarial Networks to reverse the process and generate values of variaibles of interests based on outputs, etc.)\n",
    "\n",
    "In this situation, using a NN is overkill!"
   ]
  },
  {
   "cell_type": "code",
   "execution_count": 3,
   "metadata": {
    "scrolled": false
   },
   "outputs": [
    {
     "name": "stdout",
     "output_type": "stream",
     "text": [
      "Epoch 1/10\n",
      "9/9 [==============================] - 0s 567us/step - loss: 3.3339\n",
      "Epoch 2/10\n",
      "9/9 [==============================] - 0s 536us/step - loss: 1.1908\n",
      "Epoch 3/10\n",
      "9/9 [==============================] - 0s 2ms/step - loss: 0.8672\n",
      "Epoch 4/10\n",
      "9/9 [==============================] - 0s 520us/step - loss: 0.8080\n",
      "Epoch 5/10\n",
      "9/9 [==============================] - 0s 2ms/step - loss: 0.7822\n",
      "Epoch 6/10\n",
      "9/9 [==============================] - 0s 2ms/step - loss: 0.8304\n",
      "Epoch 7/10\n",
      "9/9 [==============================] - 0s 857us/step - loss: 0.7607\n",
      "Epoch 8/10\n",
      "9/9 [==============================] - 0s 1ms/step - loss: 0.7412\n",
      "Epoch 9/10\n",
      "9/9 [==============================] - 0s 962us/step - loss: 0.7632\n",
      "Epoch 10/10\n",
      "9/9 [==============================] - 0s 819us/step - loss: 0.7219\n"
     ]
    },
    {
     "data": {
      "text/plain": [
       "<tensorflow.python.keras.callbacks.History at 0x7f0464298e50>"
      ]
     },
     "execution_count": 3,
     "metadata": {},
     "output_type": "execute_result"
    }
   ],
   "source": [
    "model = Sequential()\n",
    "model.add(Dense(2, input_dim=2))\n",
    "# These 2 nodes are linked to the 10 nodes of the following layer\n",
    "# The next nodes will receive a weighted sum of these 2 values as input\n",
    "model.add(Dense(10, activation='relu'))\n",
    "# we add an activation function to compose the result (i.e. the weighted sum) by reLU\n",
    "# rectified Linear Unit = identity for positive and 0 for negative values\n",
    "model.add(Dense(5, activation='relu'))\n",
    "# Finally, we aggregate the 5 last values in one layer of one value, our prediction :)\n",
    "model.add(Dense(1))\n",
    "\n",
    "model.compile(loss='MSE', optimizer='SGD')\n",
    "#Stochastic Gradient Descent\n",
    "model.fit(X_train, y_train, epochs=10)\n",
    "# One epoch = one loop over the training dataset"
   ]
  },
  {
   "cell_type": "code",
   "execution_count": 4,
   "metadata": {},
   "outputs": [
    {
     "data": {
      "text/plain": [
       "array([4.2222357 , 3.2110243 , 3.2105415 , 2.7494464 , 3.134014  ,\n",
       "       0.84362006, 1.1581205 , 2.6800106 , 3.0910943 , 0.7399223 ,\n",
       "       1.2404647 , 1.7862543 , 1.5905445 , 3.1115856 , 3.6039248 ,\n",
       "       1.4238465 , 4.502869  , 3.1544304 , 1.0523497 , 4.2650366 ,\n",
       "       1.927565  , 3.8247144 , 0.79042214, 3.4309347 , 2.2859814 ,\n",
       "       0.96122193, 1.1360835 , 1.1116972 , 2.171878  , 2.491334  ,\n",
       "       0.6157195 , 3.013913  , 3.2950838 , 4.165277  , 0.84049124,\n",
       "       1.3573395 , 3.785755  , 2.6926885 , 3.5723486 , 3.155176  ,\n",
       "       2.7181852 , 3.3496394 , 4.9463005 , 4.0924253 , 3.4088595 ,\n",
       "       3.141432  , 2.0536947 , 1.3189819 , 1.1552913 , 3.6486766 ,\n",
       "       0.8746411 , 0.70175827, 0.8598284 , 1.2948403 , 4.525438  ,\n",
       "       2.5478098 , 3.4293869 , 3.476091  , 2.153441  , 1.0047592 ,\n",
       "       0.92553824, 2.41125   , 1.8435903 , 0.5813029 , 4.090463  ,\n",
       "       3.1928294 , 3.6364968 , 3.9610436 , 1.5049149 , 3.0781617 ,\n",
       "       1.3694395 , 1.695254  , 1.2872726 , 1.8172523 , 3.486707  ,\n",
       "       3.035899  , 1.9254876 , 2.3810954 , 4.4559207 , 3.5176127 ,\n",
       "       0.9005375 , 3.223815  , 2.3250427 , 0.58266515, 2.1426485 ,\n",
       "       0.7083113 , 2.8587852 , 1.178532  , 2.2027419 , 0.5707731 ,\n",
       "       0.70920295, 1.0252681 ], dtype=float32)"
      ]
     },
     "execution_count": 4,
     "metadata": {},
     "output_type": "execute_result"
    }
   ],
   "source": [
    "y_pred = np.array([model.predict(X_test)[i][0] for i in range(len(X_test))])\n",
    "y_pred"
   ]
  },
  {
   "cell_type": "code",
   "execution_count": 5,
   "metadata": {},
   "outputs": [
    {
     "name": "stdout",
     "output_type": "stream",
     "text": [
      "Mean Squared Error : 0.6405824107498075\n"
     ]
    },
    {
     "data": {
      "image/png": "[encoded data removed]",
      "text/plain": [
       "<Figure size 432x288 with 1 Axes>"
      ]
     },
     "metadata": {
      "needs_background": "light"
     },
     "output_type": "display_data"
    }
   ],
   "source": [
    "print(\"Mean Squared Error : \"+str(np.mean((y_pred-y_test)**2)))\n",
    "\n",
    "plt.scatter(y_pred, y_test)\n",
    "plt.ylabel(\"Y test\")\n",
    "plt.xlabel(\"Y pred\")\n",
    "plt.show()"
   ]
  },
  {
   "cell_type": "markdown",
   "metadata": {},
   "source": [
    "My opinion :\n",
    "\n",
    "- If you don't know why you're using NN to solve a problem,\n",
    "- If you don't have at least few thousands of lines in your dataset,\n",
    "- If you want some feedback about your predictions, others than just the accuracy of your model,\n",
    "- <b>If you work on sensible topics, e.g. healthcare</b>,\n",
    "\n",
    "it's a good reason to stop it right now (sorry for being annoying :p)\n",
    "\n",
    "There are a lot of good algorithms out there that will do the job!\n",
    "\n",
    "If you just want to test it, have fun :)"
   ]
  },
  {
   "cell_type": "code",
   "execution_count": null,
   "metadata": {},
   "outputs": [],
   "source": []
  }
 ],
 "metadata": {
  "kernelspec": {
   "display_name": "Python 3",
   "language": "python",
   "name": "python3"
  },
  "language_info": {
   "codemirror_mode": {
    "name": "ipython",
    "version": 3
   },
   "file_extension": ".py",
   "mimetype": "text/x-python",
   "name": "python",
   "nbconvert_exporter": "python",
   "pygments_lexer": "ipython3",
   "version": "3.8.1"
  }
 },
 "nbformat": 4,
 "nbformat_minor": 4
}
