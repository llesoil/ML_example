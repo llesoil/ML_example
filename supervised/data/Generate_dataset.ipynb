{
 "cells": [
  {
   "cell_type": "markdown",
   "metadata": {},
   "source": [
    "# Construction of the datasets\n",
    "\n",
    "It's important to know the data you're palying with to understand how the machine learning algorithms work!"
   ]
  },
  {
   "cell_type": "markdown",
   "metadata": {},
   "source": [
    "### Import some libraries"
   ]
  },
  {
   "cell_type": "code",
   "execution_count": 1,
   "metadata": {},
   "outputs": [],
   "source": [
    "# works with arrays\n",
    "import numpy as np\n",
    "\n",
    "# works with dataframe\n",
    "import pandas as pd\n",
    "\n",
    "# plot results\n",
    "import matplotlib.pyplot as plt"
   ]
  },
  {
   "cell_type": "markdown",
   "metadata": {},
   "source": [
    "## 1. Tux happiness\n",
    "\n",
    "Designed to work on supervised learning - regression"
   ]
  },
  {
   "cell_type": "markdown",
   "metadata": {},
   "source": [
    "### Dependent variable"
   ]
  },
  {
   "cell_type": "markdown",
   "metadata": {},
   "source": [
    "We followed Tux during an entire year. Each day, we asked him if he had a good day, and we note that on our dataset.\n",
    "\n",
    "His happiness is our <b>dependent variable</b> (sometimes called <b>variable of interest</b> in the literature)\n",
    "\n",
    "First, we randomly generate happiness scores, between 0 and 5:\n",
    "- Tux is sad <=> 0\n",
    "- Tux is happy <=> 5 "
   ]
  },
  {
   "cell_type": "code",
   "execution_count": 2,
   "metadata": {},
   "outputs": [],
   "source": [
    "tux_happiness = np.random.uniform(0, 5, 365)"
   ]
  },
  {
   "cell_type": "markdown",
   "metadata": {},
   "source": [
    "### Independent variable"
   ]
  },
  {
   "cell_type": "markdown",
   "metadata": {},
   "source": [
    "#### (a) Fish"
   ]
  },
  {
   "cell_type": "markdown",
   "metadata": {},
   "source": [
    "We describe the number of fishes eaten by Tux each day (in kilogram).\n",
    "\n",
    "We want the average to be around 2-3 kg.\n",
    "https://seaworld.org/animals/all-about/penguins/diet-and-eating-habits/\n",
    "\n",
    "The idea is; \n",
    "- If Tux is well fed, then he'll be happier :-)\n",
    "- Otherwise, he'll be sad\n",
    "\n",
    "But this number can't be negative!"
   ]
  },
  {
   "cell_type": "code",
   "execution_count": 3,
   "metadata": {},
   "outputs": [],
   "source": [
    "fish = [max(0,\n",
    "            np.random.uniform(tux_happiness[i]-np.random.uniform(0,3), \n",
    "                                tux_happiness[i]+np.random.uniform(0,3))\n",
    "           ) \n",
    "        for i in range(len(tux_happiness))]"
   ]
  },
  {
   "cell_type": "markdown",
   "metadata": {},
   "source": [
    "Little check (tux happiness should be centered around 2.5, so is fish) for the average number of fish eaten"
   ]
  },
  {
   "cell_type": "code",
   "execution_count": 4,
   "metadata": {},
   "outputs": [
    {
     "data": {
      "text/plain": [
       "2.3651499911433795"
      ]
     },
     "execution_count": 4,
     "metadata": {},
     "output_type": "execute_result"
    }
   ],
   "source": [
    "np.mean(fish)"
   ]
  },
  {
   "cell_type": "markdown",
   "metadata": {},
   "source": [
    "Then look the relationship between fish and happiness"
   ]
  },
  {
   "cell_type": "code",
   "execution_count": 5,
   "metadata": {},
   "outputs": [
    {
     "data": {
      "text/plain": [
       "0.8052538280637714"
      ]
     },
     "execution_count": 5,
     "metadata": {},
     "output_type": "execute_result"
    }
   ],
   "source": [
    "np.corrcoef(fish,tux_happiness)[0,1]"
   ]
  },
  {
   "cell_type": "markdown",
   "metadata": {},
   "source": [
    "Pretty high correlation"
   ]
  },
  {
   "cell_type": "code",
   "execution_count": 6,
   "metadata": {},
   "outputs": [
    {
     "data": {
      "image/png": "[encoded data removed]",
      "text/plain": [
       "<Figure size 432x288 with 1 Axes>"
      ]
     },
     "metadata": {
      "needs_background": "light"
     },
     "output_type": "display_data"
    }
   ],
   "source": [
    "plt.scatter(fish, tux_happiness)\n",
    "plt.ylabel(\"Happiness score\")\n",
    "plt.xlabel(\"Fish (kg)\")\n",
    "plt.show()"
   ]
  },
  {
   "cell_type": "markdown",
   "metadata": {},
   "source": [
    "#### (b) Temperature"
   ]
  },
  {
   "cell_type": "markdown",
   "metadata": {},
   "source": [
    "Tux always swims with his thermometer. So it's easy to get the average water temperature (in celsus degrees, sorry if you're american) in our dataset.\n",
    "\n",
    "The idea is; \n",
    "- If the temperature is too high, the ice melt, and Tux lose his house, so he's sad\n",
    "- If the temperature falls below 0°C, he's enjoying the weather!\n"
   ]
  },
  {
   "cell_type": "code",
   "execution_count": 7,
   "metadata": {},
   "outputs": [],
   "source": [
    "temperature = [np.random.uniform(0, 10) if tux_happiness[i] < np.random.uniform(1.5,4) \n",
    "               else np.random.uniform(-15, tux_happiness[i]) for i in range(len(tux_happiness))]"
   ]
  },
  {
   "cell_type": "markdown",
   "metadata": {},
   "source": [
    "Little check with average"
   ]
  },
  {
   "cell_type": "code",
   "execution_count": 8,
   "metadata": {},
   "outputs": [
    {
     "data": {
      "text/plain": [
       "0.40995350945548636"
      ]
     },
     "execution_count": 8,
     "metadata": {},
     "output_type": "execute_result"
    }
   ],
   "source": [
    "np.mean(temperature)"
   ]
  },
  {
   "cell_type": "markdown",
   "metadata": {},
   "source": [
    "Pretty cold out there, brrrrr..."
   ]
  },
  {
   "cell_type": "code",
   "execution_count": 9,
   "metadata": {},
   "outputs": [
    {
     "data": {
      "text/plain": [
       "-0.5885246187207666"
      ]
     },
     "execution_count": 9,
     "metadata": {},
     "output_type": "execute_result"
    }
   ],
   "source": [
    "np.corrcoef(temperature, tux_happiness)[0,1]"
   ]
  },
  {
   "cell_type": "markdown",
   "metadata": {},
   "source": [
    "Not so bad :-) could use Spearman instead of Pearson (Pearson = linear, Spearman = rank)"
   ]
  },
  {
   "cell_type": "code",
   "execution_count": 10,
   "metadata": {},
   "outputs": [
    {
     "data": {
      "image/png": "[encoded data removed]",
      "text/plain": [
       "<Figure size 432x288 with 1 Axes>"
      ]
     },
     "metadata": {
      "needs_background": "light"
     },
     "output_type": "display_data"
    }
   ],
   "source": [
    "plt.scatter(temperature, tux_happiness)\n",
    "plt.ylabel(\"Happiness score\")\n",
    "plt.xlabel(\"Temperature (°C)\")\n",
    "plt.show()"
   ]
  },
  {
   "cell_type": "markdown",
   "metadata": {},
   "source": [
    "Not realistic, but ok, let's go with it!"
   ]
  },
  {
   "cell_type": "markdown",
   "metadata": {},
   "source": [
    "Fish and temperature will be our <b>independant variables</b> (or <b>explaining variables</b> )"
   ]
  },
  {
   "cell_type": "markdown",
   "metadata": {},
   "source": [
    "Let's store that in our dataset"
   ]
  },
  {
   "cell_type": "code",
   "execution_count": 11,
   "metadata": {},
   "outputs": [
    {
     "data": {
      "text/html": [
       "<div>\n",
       "<style scoped>\n",
       "    .dataframe tbody tr th:only-of-type {\n",
       "        vertical-align: middle;\n",
       "    }\n",
       "\n",
       "    .dataframe tbody tr th {\n",
       "        vertical-align: top;\n",
       "    }\n",
       "\n",
       "    .dataframe thead th {\n",
       "        text-align: right;\n",
       "    }\n",
       "</style>\n",
       "<table border=\"1\" class=\"dataframe\">\n",
       "  <thead>\n",
       "    <tr style=\"text-align: right;\">\n",
       "      <th></th>\n",
       "      <th>happy</th>\n",
       "      <th>temp</th>\n",
       "      <th>fish</th>\n",
       "    </tr>\n",
       "  </thead>\n",
       "  <tbody>\n",
       "    <tr>\n",
       "      <th>0</th>\n",
       "      <td>0.484098</td>\n",
       "      <td>3.796804</td>\n",
       "      <td>0.977109</td>\n",
       "    </tr>\n",
       "    <tr>\n",
       "      <th>1</th>\n",
       "      <td>4.441049</td>\n",
       "      <td>-3.974861</td>\n",
       "      <td>5.420305</td>\n",
       "    </tr>\n",
       "    <tr>\n",
       "      <th>2</th>\n",
       "      <td>2.341838</td>\n",
       "      <td>2.217617</td>\n",
       "      <td>2.201627</td>\n",
       "    </tr>\n",
       "    <tr>\n",
       "      <th>3</th>\n",
       "      <td>3.456520</td>\n",
       "      <td>-5.435268</td>\n",
       "      <td>1.140884</td>\n",
       "    </tr>\n",
       "    <tr>\n",
       "      <th>4</th>\n",
       "      <td>3.846523</td>\n",
       "      <td>-3.710603</td>\n",
       "      <td>4.864311</td>\n",
       "    </tr>\n",
       "  </tbody>\n",
       "</table>\n",
       "</div>"
      ],
      "text/plain": [
       "      happy      temp      fish\n",
       "0  0.484098  3.796804  0.977109\n",
       "1  4.441049 -3.974861  5.420305\n",
       "2  2.341838  2.217617  2.201627\n",
       "3  3.456520 -5.435268  1.140884\n",
       "4  3.846523 -3.710603  4.864311"
      ]
     },
     "execution_count": 11,
     "metadata": {},
     "output_type": "execute_result"
    }
   ],
   "source": [
    "dataset1 = pd.DataFrame({ \"happy\" : tux_happiness, \"temp\" : temperature, \"fish\" : fish})\n",
    "dataset1.to_csv(\"happiness.csv\")\n",
    "dataset1.head()"
   ]
  },
  {
   "cell_type": "markdown",
   "metadata": {},
   "source": [
    "## 2. Tux alimentation\n",
    "\n",
    "Designed to work on feature selection\n",
    "\n",
    "A feature is a variable (as fish defined in the previous dataset)"
   ]
  },
  {
   "cell_type": "markdown",
   "metadata": {},
   "source": [
    "<b>CONTEXT</b>"
   ]
  },
  {
   "cell_type": "markdown",
   "metadata": {},
   "source": [
    "Right now, Tux is a fish addict; he wants to reduce his fish consumption, i.e. select some species.\n",
    "\n",
    "He could consult a nutritionist, but he has no money; you know, he's a pengouin.\n",
    "\n",
    "Can we help Tux with machine learning?"
   ]
  },
  {
   "cell_type": "markdown",
   "metadata": {},
   "source": [
    "### Dependent variable"
   ]
  },
  {
   "cell_type": "markdown",
   "metadata": {},
   "source": [
    "His health is our <b>dependent variable</b>.\n",
    "\n",
    "First, we randomly generate health scores, between 0 and 5:\n",
    "- Tux feels bad <=> 0\n",
    "- Tux is healthy <=> 5 "
   ]
  },
  {
   "cell_type": "code",
   "execution_count": 12,
   "metadata": {},
   "outputs": [],
   "source": [
    "tux_health = np.random.uniform(0, 5, 365)"
   ]
  },
  {
   "cell_type": "markdown",
   "metadata": {},
   "source": [
    "### Independent variable"
   ]
  },
  {
   "cell_type": "markdown",
   "metadata": {},
   "source": [
    "We put two fishes, highly correlated to Tux's health, and a dozen of fishes following uniform distributions.\n",
    "\n",
    "The goal in the future will be to retrieve these two fishes, and to identify them as important variables to keep in the predictive model."
   ]
  },
  {
   "cell_type": "code",
   "execution_count": 13,
   "metadata": {},
   "outputs": [],
   "source": [
    "fish_names = [\"Blacktip Shark\", \"Dolphin\", \"Blackfin Tuna\", \"Black Drum\", \"Black Sea Bass\", \"Bluefish\", \n",
    "              \"Bluefin Tuna\", \"Blue Marlin\",\"Blueline Tilefish\", \"Butterfish\", \"Cobia\", \"Croaker\",  \"Flounder\",\n",
    "              \"Gag Grouper\", \"Gray Triggerfish\", \"Gray Trout\",\"Hammerhead\", \"Hickory Shad\"]"
   ]
  },
  {
   "cell_type": "code",
   "execution_count": 14,
   "metadata": {},
   "outputs": [],
   "source": [
    "shark = tux_health + np.random.normal(0, 2, len(tux_health))\n",
    "dolphin = tux_health + np.random.normal(0, 2, len(tux_health))"
   ]
  },
  {
   "cell_type": "markdown",
   "metadata": {},
   "source": [
    "Yes, Tux is a strong pengouin eating sharks and dolphins. \n",
    "\n",
    "Even the pengouins go wild in this crazy world!"
   ]
  },
  {
   "cell_type": "code",
   "execution_count": 15,
   "metadata": {
    "scrolled": false
   },
   "outputs": [
    {
     "data": {
      "text/plain": [
       "0.5656484493799101"
      ]
     },
     "execution_count": 15,
     "metadata": {},
     "output_type": "execute_result"
    }
   ],
   "source": [
    "np.corrcoef(tux_health, shark)[0,1]"
   ]
  },
  {
   "cell_type": "code",
   "execution_count": 16,
   "metadata": {},
   "outputs": [
    {
     "data": {
      "text/plain": [
       "0.609240306416474"
      ]
     },
     "execution_count": 16,
     "metadata": {},
     "output_type": "execute_result"
    }
   ],
   "source": [
    "np.corrcoef(tux_health, dolphin)[0,1]"
   ]
  },
  {
   "cell_type": "markdown",
   "metadata": {},
   "source": [
    "OK! So dolphin and sharks are good for health!"
   ]
  },
  {
   "cell_type": "markdown",
   "metadata": {},
   "source": [
    "Other fishes are uncorrelated with health, just uniform distributions."
   ]
  },
  {
   "cell_type": "code",
   "execution_count": 17,
   "metadata": {},
   "outputs": [],
   "source": [
    "dominos_fish = np.random.uniform(0, 1, len(tux_health))"
   ]
  },
  {
   "cell_type": "code",
   "execution_count": 18,
   "metadata": {},
   "outputs": [
    {
     "data": {
      "text/plain": [
       "-0.01400876713216797"
      ]
     },
     "execution_count": 18,
     "metadata": {},
     "output_type": "execute_result"
    }
   ],
   "source": [
    "np.corrcoef(tux_health, dominos_fish)[0,1]"
   ]
  },
  {
   "cell_type": "markdown",
   "metadata": {},
   "source": [
    "And others aren't!"
   ]
  },
  {
   "cell_type": "markdown",
   "metadata": {},
   "source": [
    "We save the dataset"
   ]
  },
  {
   "cell_type": "code",
   "execution_count": 19,
   "metadata": {},
   "outputs": [
    {
     "data": {
      "text/html": [
       "<div>\n",
       "<style scoped>\n",
       "    .dataframe tbody tr th:only-of-type {\n",
       "        vertical-align: middle;\n",
       "    }\n",
       "\n",
       "    .dataframe tbody tr th {\n",
       "        vertical-align: top;\n",
       "    }\n",
       "\n",
       "    .dataframe thead th {\n",
       "        text-align: right;\n",
       "    }\n",
       "</style>\n",
       "<table border=\"1\" class=\"dataframe\">\n",
       "  <thead>\n",
       "    <tr style=\"text-align: right;\">\n",
       "      <th></th>\n",
       "      <th>Blacktip Shark</th>\n",
       "      <th>Dolphin</th>\n",
       "      <th>Blackfin Tuna</th>\n",
       "      <th>Black Drum</th>\n",
       "      <th>Black Sea Bass</th>\n",
       "      <th>Bluefish</th>\n",
       "      <th>Bluefin Tuna</th>\n",
       "      <th>Blue Marlin</th>\n",
       "      <th>Blueline Tilefish</th>\n",
       "      <th>Butterfish</th>\n",
       "      <th>Cobia</th>\n",
       "      <th>Croaker</th>\n",
       "      <th>Flounder</th>\n",
       "      <th>Gag Grouper</th>\n",
       "      <th>Gray Triggerfish</th>\n",
       "      <th>Gray Trout</th>\n",
       "      <th>Hammerhead</th>\n",
       "      <th>Hickory Shad</th>\n",
       "    </tr>\n",
       "  </thead>\n",
       "  <tbody>\n",
       "    <tr>\n",
       "      <th>0</th>\n",
       "      <td>3.655346</td>\n",
       "      <td>3.704967</td>\n",
       "      <td>0.674357</td>\n",
       "      <td>0.026553</td>\n",
       "      <td>0.713705</td>\n",
       "      <td>0.016341</td>\n",
       "      <td>0.327152</td>\n",
       "      <td>0.778082</td>\n",
       "      <td>0.236149</td>\n",
       "      <td>0.223870</td>\n",
       "      <td>0.946561</td>\n",
       "      <td>0.540921</td>\n",
       "      <td>0.042221</td>\n",
       "      <td>0.047383</td>\n",
       "      <td>0.126725</td>\n",
       "      <td>0.279087</td>\n",
       "      <td>0.944975</td>\n",
       "      <td>0.885070</td>\n",
       "    </tr>\n",
       "    <tr>\n",
       "      <th>1</th>\n",
       "      <td>6.902597</td>\n",
       "      <td>6.406301</td>\n",
       "      <td>0.537382</td>\n",
       "      <td>0.899594</td>\n",
       "      <td>0.498472</td>\n",
       "      <td>0.771903</td>\n",
       "      <td>0.240013</td>\n",
       "      <td>0.862871</td>\n",
       "      <td>0.300716</td>\n",
       "      <td>0.944348</td>\n",
       "      <td>0.772177</td>\n",
       "      <td>0.893494</td>\n",
       "      <td>0.485124</td>\n",
       "      <td>0.158001</td>\n",
       "      <td>0.969294</td>\n",
       "      <td>0.628180</td>\n",
       "      <td>0.249613</td>\n",
       "      <td>0.163837</td>\n",
       "    </tr>\n",
       "    <tr>\n",
       "      <th>2</th>\n",
       "      <td>2.431709</td>\n",
       "      <td>0.829996</td>\n",
       "      <td>0.490373</td>\n",
       "      <td>0.340643</td>\n",
       "      <td>0.656026</td>\n",
       "      <td>0.549007</td>\n",
       "      <td>0.429828</td>\n",
       "      <td>0.090187</td>\n",
       "      <td>0.807905</td>\n",
       "      <td>0.661668</td>\n",
       "      <td>0.834329</td>\n",
       "      <td>0.733494</td>\n",
       "      <td>0.963782</td>\n",
       "      <td>0.500399</td>\n",
       "      <td>0.719362</td>\n",
       "      <td>0.531173</td>\n",
       "      <td>0.114040</td>\n",
       "      <td>0.701044</td>\n",
       "    </tr>\n",
       "    <tr>\n",
       "      <th>3</th>\n",
       "      <td>1.618988</td>\n",
       "      <td>1.528279</td>\n",
       "      <td>0.592189</td>\n",
       "      <td>0.195441</td>\n",
       "      <td>0.026389</td>\n",
       "      <td>0.469508</td>\n",
       "      <td>0.069975</td>\n",
       "      <td>0.919383</td>\n",
       "      <td>0.810837</td>\n",
       "      <td>0.657685</td>\n",
       "      <td>0.086509</td>\n",
       "      <td>0.299303</td>\n",
       "      <td>0.422317</td>\n",
       "      <td>0.972673</td>\n",
       "      <td>0.061636</td>\n",
       "      <td>0.854971</td>\n",
       "      <td>0.969045</td>\n",
       "      <td>0.842061</td>\n",
       "    </tr>\n",
       "    <tr>\n",
       "      <th>4</th>\n",
       "      <td>3.543373</td>\n",
       "      <td>4.228752</td>\n",
       "      <td>0.229758</td>\n",
       "      <td>0.659985</td>\n",
       "      <td>0.498104</td>\n",
       "      <td>0.915873</td>\n",
       "      <td>0.354963</td>\n",
       "      <td>0.266143</td>\n",
       "      <td>0.984567</td>\n",
       "      <td>0.561686</td>\n",
       "      <td>0.934253</td>\n",
       "      <td>0.566312</td>\n",
       "      <td>0.970406</td>\n",
       "      <td>0.685391</td>\n",
       "      <td>0.363798</td>\n",
       "      <td>0.945017</td>\n",
       "      <td>0.072747</td>\n",
       "      <td>0.797506</td>\n",
       "    </tr>\n",
       "  </tbody>\n",
       "</table>\n",
       "</div>"
      ],
      "text/plain": [
       "   Blacktip Shark   Dolphin  Blackfin Tuna  Black Drum  Black Sea Bass  \\\n",
       "0        3.655346  3.704967       0.674357    0.026553        0.713705   \n",
       "1        6.902597  6.406301       0.537382    0.899594        0.498472   \n",
       "2        2.431709  0.829996       0.490373    0.340643        0.656026   \n",
       "3        1.618988  1.528279       0.592189    0.195441        0.026389   \n",
       "4        3.543373  4.228752       0.229758    0.659985        0.498104   \n",
       "\n",
       "   Bluefish  Bluefin Tuna  Blue Marlin  Blueline Tilefish  Butterfish  \\\n",
       "0  0.016341      0.327152     0.778082           0.236149    0.223870   \n",
       "1  0.771903      0.240013     0.862871           0.300716    0.944348   \n",
       "2  0.549007      0.429828     0.090187           0.807905    0.661668   \n",
       "3  0.469508      0.069975     0.919383           0.810837    0.657685   \n",
       "4  0.915873      0.354963     0.266143           0.984567    0.561686   \n",
       "\n",
       "      Cobia   Croaker  Flounder  Gag Grouper  Gray Triggerfish  Gray Trout  \\\n",
       "0  0.946561  0.540921  0.042221     0.047383          0.126725    0.279087   \n",
       "1  0.772177  0.893494  0.485124     0.158001          0.969294    0.628180   \n",
       "2  0.834329  0.733494  0.963782     0.500399          0.719362    0.531173   \n",
       "3  0.086509  0.299303  0.422317     0.972673          0.061636    0.854971   \n",
       "4  0.934253  0.566312  0.970406     0.685391          0.363798    0.945017   \n",
       "\n",
       "   Hammerhead  Hickory Shad  \n",
       "0    0.944975      0.885070  \n",
       "1    0.249613      0.163837  \n",
       "2    0.114040      0.701044  \n",
       "3    0.969045      0.842061  \n",
       "4    0.072747      0.797506  "
      ]
     },
     "execution_count": 19,
     "metadata": {},
     "output_type": "execute_result"
    }
   ],
   "source": [
    "arr = np.random.uniform(0, 1, len(tux_health)*len(fish_names)).reshape(len(tux_health),len(fish_names))\n",
    "dataset2 = pd.DataFrame(arr)\n",
    "\n",
    "dataset2.columns = fish_names\n",
    "\n",
    "dataset2[\"Blacktip Shark\"] = shark\n",
    "dataset2[\"Dolphin\"] = dolphin\n",
    "\n",
    "dataset2.to_csv(\"fish.csv\")\n",
    "dataset2.head()"
   ]
  }
 ],
 "metadata": {
  "kernelspec": {
   "display_name": "Python 3",
   "language": "python",
   "name": "python3"
  },
  "language_info": {
   "codemirror_mode": {
    "name": "ipython",
    "version": 3
   },
   "file_extension": ".py",
   "mimetype": "text/x-python",
   "name": "python",
   "nbconvert_exporter": "python",
   "pygments_lexer": "ipython3",
   "version": "3.8.1"
  }
 },
 "nbformat": 4,
 "nbformat_minor": 4
}
