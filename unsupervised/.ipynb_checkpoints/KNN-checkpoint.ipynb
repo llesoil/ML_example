{
 "cells": [
  {
   "cell_type": "markdown",
   "metadata": {},
   "source": [
    "# K-nearest neighbors"
   ]
  },
  {
   "cell_type": "code",
   "execution_count": 1,
   "metadata": {},
   "outputs": [],
   "source": [
    "import numpy as np\n",
    "import pandas as pd\n",
    "import matplotlib.pyplot as plt\n",
    "\n",
    "from sklearn.neighbors import NearestNeighbors, KNeighborsRegressor\n",
    "from sklearn.model_selection import train_test_split"
   ]
  },
  {
   "cell_type": "code",
   "execution_count": 2,
   "metadata": {},
   "outputs": [
    {
     "data": {
      "text/html": [
       "<div>\n",
       "<style scoped>\n",
       "    .dataframe tbody tr th:only-of-type {\n",
       "        vertical-align: middle;\n",
       "    }\n",
       "\n",
       "    .dataframe tbody tr th {\n",
       "        vertical-align: top;\n",
       "    }\n",
       "\n",
       "    .dataframe thead th {\n",
       "        text-align: right;\n",
       "    }\n",
       "</style>\n",
       "<table border=\"1\" class=\"dataframe\">\n",
       "  <thead>\n",
       "    <tr style=\"text-align: right;\">\n",
       "      <th></th>\n",
       "      <th>EXT</th>\n",
       "      <th>EST</th>\n",
       "      <th>AGR</th>\n",
       "      <th>CSN</th>\n",
       "      <th>OPN</th>\n",
       "    </tr>\n",
       "  </thead>\n",
       "  <tbody>\n",
       "    <tr>\n",
       "      <th>0</th>\n",
       "      <td>4.6</td>\n",
       "      <td>2.4</td>\n",
       "      <td>3.5</td>\n",
       "      <td>3.0</td>\n",
       "      <td>4.5</td>\n",
       "    </tr>\n",
       "    <tr>\n",
       "      <th>1</th>\n",
       "      <td>2.0</td>\n",
       "      <td>2.5</td>\n",
       "      <td>4.2</td>\n",
       "      <td>3.7</td>\n",
       "      <td>3.5</td>\n",
       "    </tr>\n",
       "    <tr>\n",
       "      <th>2</th>\n",
       "      <td>2.5</td>\n",
       "      <td>2.6</td>\n",
       "      <td>4.0</td>\n",
       "      <td>3.2</td>\n",
       "      <td>4.1</td>\n",
       "    </tr>\n",
       "    <tr>\n",
       "      <th>3</th>\n",
       "      <td>2.6</td>\n",
       "      <td>2.9</td>\n",
       "      <td>3.6</td>\n",
       "      <td>2.5</td>\n",
       "      <td>3.9</td>\n",
       "    </tr>\n",
       "    <tr>\n",
       "      <th>4</th>\n",
       "      <td>2.9</td>\n",
       "      <td>1.9</td>\n",
       "      <td>4.2</td>\n",
       "      <td>4.4</td>\n",
       "      <td>4.8</td>\n",
       "    </tr>\n",
       "    <tr>\n",
       "      <th>...</th>\n",
       "      <td>...</td>\n",
       "      <td>...</td>\n",
       "      <td>...</td>\n",
       "      <td>...</td>\n",
       "      <td>...</td>\n",
       "    </tr>\n",
       "    <tr>\n",
       "      <th>1015336</th>\n",
       "      <td>3.4</td>\n",
       "      <td>3.3</td>\n",
       "      <td>3.6</td>\n",
       "      <td>2.9</td>\n",
       "      <td>3.3</td>\n",
       "    </tr>\n",
       "    <tr>\n",
       "      <th>1015337</th>\n",
       "      <td>3.2</td>\n",
       "      <td>4.4</td>\n",
       "      <td>3.7</td>\n",
       "      <td>2.8</td>\n",
       "      <td>4.5</td>\n",
       "    </tr>\n",
       "    <tr>\n",
       "      <th>1015338</th>\n",
       "      <td>3.9</td>\n",
       "      <td>2.9</td>\n",
       "      <td>3.1</td>\n",
       "      <td>2.1</td>\n",
       "      <td>4.8</td>\n",
       "    </tr>\n",
       "    <tr>\n",
       "      <th>1015339</th>\n",
       "      <td>2.2</td>\n",
       "      <td>3.5</td>\n",
       "      <td>3.7</td>\n",
       "      <td>3.6</td>\n",
       "      <td>4.1</td>\n",
       "    </tr>\n",
       "    <tr>\n",
       "      <th>1015340</th>\n",
       "      <td>3.9</td>\n",
       "      <td>2.9</td>\n",
       "      <td>3.8</td>\n",
       "      <td>2.6</td>\n",
       "      <td>4.7</td>\n",
       "    </tr>\n",
       "  </tbody>\n",
       "</table>\n",
       "<p>1015341 rows × 5 columns</p>\n",
       "</div>"
      ],
      "text/plain": [
       "         EXT  EST  AGR  CSN  OPN\n",
       "0        4.6  2.4  3.5  3.0  4.5\n",
       "1        2.0  2.5  4.2  3.7  3.5\n",
       "2        2.5  2.6  4.0  3.2  4.1\n",
       "3        2.6  2.9  3.6  2.5  3.9\n",
       "4        2.9  1.9  4.2  4.4  4.8\n",
       "...      ...  ...  ...  ...  ...\n",
       "1015336  3.4  3.3  3.6  2.9  3.3\n",
       "1015337  3.2  4.4  3.7  2.8  4.5\n",
       "1015338  3.9  2.9  3.1  2.1  4.8\n",
       "1015339  2.2  3.5  3.7  3.6  4.1\n",
       "1015340  3.9  2.9  3.8  2.6  4.7\n",
       "\n",
       "[1015341 rows x 5 columns]"
      ]
     },
     "execution_count": 2,
     "metadata": {},
     "output_type": "execute_result"
    }
   ],
   "source": [
    "bigv = pd.read_csv(\"./data/data.csv\")\n",
    "bigv"
   ]
  },
  {
   "cell_type": "code",
   "execution_count": 3,
   "metadata": {},
   "outputs": [
    {
     "data": {
      "text/plain": [
       "NearestNeighbors(algorithm='auto', leaf_size=30, metric='minkowski',\n",
       "                 metric_params=None, n_jobs=None, n_neighbors=7, p=2,\n",
       "                 radius=1.0)"
      ]
     },
     "execution_count": 3,
     "metadata": {},
     "output_type": "execute_result"
    }
   ],
   "source": [
    "nn = NearestNeighbors(n_neighbors=7)\n",
    "nn.fit(bigv)"
   ]
  },
  {
   "cell_type": "code",
   "execution_count": 4,
   "metadata": {},
   "outputs": [
    {
     "data": {
      "text/plain": [
       "array([[0.        , 0.1       , 0.14142136, 0.14142136, 0.14142136,\n",
       "        0.17320508, 0.17320508]])"
      ]
     },
     "execution_count": 4,
     "metadata": {},
     "output_type": "execute_result"
    }
   ],
   "source": [
    "nn.kneighbors([bigv.loc[0]])[0]"
   ]
  },
  {
   "cell_type": "markdown",
   "metadata": {},
   "source": [
    "Distance from the 7 nearest neighbors of first line"
   ]
  },
  {
   "cell_type": "code",
   "execution_count": 5,
   "metadata": {},
   "outputs": [
    {
     "data": {
      "text/plain": [
       "array([[     0, 751705, 785383, 403662, 103728, 996332, 161494]])"
      ]
     },
     "execution_count": 5,
     "metadata": {},
     "output_type": "execute_result"
    }
   ],
   "source": [
    "nn.kneighbors([bigv.loc[0]])[1]"
   ]
  },
  {
   "cell_type": "markdown",
   "metadata": {},
   "source": [
    "Ids of 7 nearest neighbors of the first line, find your soul mate :)"
   ]
  },
  {
   "cell_type": "code",
   "execution_count": 6,
   "metadata": {},
   "outputs": [
    {
     "data": {
      "text/plain": [
       "EXT    4.6\n",
       "EST    2.4\n",
       "AGR    3.5\n",
       "CSN    3.0\n",
       "OPN    4.5\n",
       "Name: 0, dtype: float64"
      ]
     },
     "execution_count": 6,
     "metadata": {},
     "output_type": "execute_result"
    }
   ],
   "source": [
    "bigv.loc[0]"
   ]
  },
  {
   "cell_type": "code",
   "execution_count": 7,
   "metadata": {},
   "outputs": [
    {
     "data": {
      "text/plain": [
       "EXT    4.6\n",
       "EST    2.4\n",
       "AGR    3.5\n",
       "CSN    3.0\n",
       "OPN    4.4\n",
       "Name: 751705, dtype: float64"
      ]
     },
     "execution_count": 7,
     "metadata": {},
     "output_type": "execute_result"
    }
   ],
   "source": [
    "bigv.loc[751705]"
   ]
  },
  {
   "cell_type": "markdown",
   "metadata": {},
   "source": [
    "#### Use KNN as a regressor (supervised learning)\n",
    "\n",
    "It computes the average value of the k nearest neighbors\n",
    "\n",
    "It follows the rule \"You Are The Average Of The Five People You Spend The Most Time With\""
   ]
  },
  {
   "cell_type": "code",
   "execution_count": 8,
   "metadata": {},
   "outputs": [],
   "source": [
    "happy = pd.read_csv(\"../supervised/data/happiness.csv\", usecols=[1,2,3])\n",
    "\n",
    "#dependent variable\n",
    "y = happy['happy']\n",
    "\n",
    "# explaining variables\n",
    "X = happy[['temp', 'fish']]\n",
    "\n",
    "# _train related to the training set, _test to the testing set\n",
    "X_train, X_test, y_train, y_test = train_test_split(X, y, test_size=0.25)"
   ]
  },
  {
   "cell_type": "code",
   "execution_count": 9,
   "metadata": {},
   "outputs": [
    {
     "data": {
      "text/plain": [
       "array([1.85900699, 3.64950836, 3.35828184, 1.47472672, 0.57520026,\n",
       "       3.58841281, 3.07126204, 3.2404273 , 1.47972108, 3.4364145 ,\n",
       "       3.91498611, 1.00671653, 2.31147102, 4.24873252, 1.75645844,\n",
       "       2.69242411, 2.24864302, 0.78187162, 1.46180293, 1.03513399,\n",
       "       4.17501504, 1.74842779, 4.19471854, 3.70863182, 1.10988738,\n",
       "       3.82412439, 1.11440775, 2.25095599, 3.4364145 , 1.78606132,\n",
       "       2.44928155, 3.27798775, 0.6735942 , 3.96779011, 1.00671653,\n",
       "       0.89724073, 3.69353551, 2.60173035, 3.02513584, 1.84404665,\n",
       "       3.96779011, 3.18030986, 0.71591029, 4.2599754 , 1.53994151,\n",
       "       0.71591029, 1.20639046, 3.22132881, 1.28724904, 3.76744438,\n",
       "       1.8554546 , 3.02841906, 3.14482625, 1.39119106, 0.34656997,\n",
       "       0.4494127 , 2.89242349, 1.54634386, 4.43166803, 3.98184428,\n",
       "       1.69053596, 1.13810058, 3.45305999, 0.91626397, 3.38027861,\n",
       "       2.37838271, 0.57520026, 4.33678757, 1.02940368, 1.43037327,\n",
       "       3.69086771, 1.86879869, 3.48182541, 2.47932273, 3.61624481,\n",
       "       4.14995679, 0.81012407, 4.3674307 , 3.5401304 , 1.17084721,\n",
       "       2.72133021, 1.37182587, 2.75517195, 3.15314837, 0.6735942 ,\n",
       "       1.02940368, 4.15207971, 1.39658814, 1.54634386, 1.48478617,\n",
       "       3.71533087, 3.81361611])"
      ]
     },
     "execution_count": 9,
     "metadata": {},
     "output_type": "execute_result"
    }
   ],
   "source": [
    "knn =  KNeighborsRegressor()\n",
    "knn.fit(X_train, y_train)\n",
    "knn.predict(X_test)"
   ]
  },
  {
   "cell_type": "code",
   "execution_count": 10,
   "metadata": {},
   "outputs": [
    {
     "name": "stdout",
     "output_type": "stream",
     "text": [
      "Mean Squared Error : 0.5597406864406961\n"
     ]
    },
    {
     "data": {
      "image/png": "[encoded data removed]",
      "text/plain": [
       "<Figure size 432x288 with 1 Axes>"
      ]
     },
     "metadata": {
      "needs_background": "light"
     },
     "output_type": "display_data"
    }
   ],
   "source": [
    "#our predictions\n",
    "y_pred = knn.predict(X_test)\n",
    "\n",
    "print(\"Mean Squared Error : \"+str(np.mean((y_pred-y_test)**2)))\n",
    "\n",
    "plt.scatter(y_pred, y_test)\n",
    "plt.ylabel(\"Y test\")\n",
    "plt.xlabel(\"Y pred\")\n",
    "plt.show()"
   ]
  },
  {
   "cell_type": "code",
   "execution_count": null,
   "metadata": {},
   "outputs": [],
   "source": []
  }
 ],
 "metadata": {
  "kernelspec": {
   "display_name": "Python 3",
   "language": "python",
   "name": "python3"
  },
  "language_info": {
   "codemirror_mode": {
    "name": "ipython",
    "version": 3
   },
   "file_extension": ".py",
   "mimetype": "text/x-python",
   "name": "python",
   "nbconvert_exporter": "python",
   "pygments_lexer": "ipython3",
   "version": "3.8.1"
  }
 },
 "nbformat": 4,
 "nbformat_minor": 4
}
