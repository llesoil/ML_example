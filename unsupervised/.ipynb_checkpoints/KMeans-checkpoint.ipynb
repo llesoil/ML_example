{
 "cells": [
  {
   "cell_type": "markdown",
   "metadata": {},
   "source": [
    "# KMeans\n",
    "\n",
    "https://towardsdatascience.com/k-means-clustering-algorithm-applications-evaluation-methods-and-drawbacks-aa03e644b48a"
   ]
  },
  {
   "cell_type": "code",
   "execution_count": 12,
   "metadata": {},
   "outputs": [],
   "source": [
    "import numpy as np\n",
    "import pandas as pd\n",
    "import matplotlib.pyplot as plt\n",
    "\n",
    "from sklearn.cluster import KMeans\n",
    "from sklearn.decomposition import PCA"
   ]
  },
  {
   "cell_type": "code",
   "execution_count": 4,
   "metadata": {
    "scrolled": false
   },
   "outputs": [
    {
     "data": {
      "text/html": [
       "<div>\n",
       "<style scoped>\n",
       "    .dataframe tbody tr th:only-of-type {\n",
       "        vertical-align: middle;\n",
       "    }\n",
       "\n",
       "    .dataframe tbody tr th {\n",
       "        vertical-align: top;\n",
       "    }\n",
       "\n",
       "    .dataframe thead th {\n",
       "        text-align: right;\n",
       "    }\n",
       "</style>\n",
       "<table border=\"1\" class=\"dataframe\">\n",
       "  <thead>\n",
       "    <tr style=\"text-align: right;\">\n",
       "      <th></th>\n",
       "      <th>EXT</th>\n",
       "      <th>EST</th>\n",
       "      <th>AGR</th>\n",
       "      <th>CSN</th>\n",
       "      <th>OPN</th>\n",
       "    </tr>\n",
       "  </thead>\n",
       "  <tbody>\n",
       "    <tr>\n",
       "      <th>0</th>\n",
       "      <td>4.6</td>\n",
       "      <td>2.4</td>\n",
       "      <td>3.5</td>\n",
       "      <td>3.0</td>\n",
       "      <td>4.5</td>\n",
       "    </tr>\n",
       "    <tr>\n",
       "      <th>1</th>\n",
       "      <td>2.0</td>\n",
       "      <td>2.5</td>\n",
       "      <td>4.2</td>\n",
       "      <td>3.7</td>\n",
       "      <td>3.5</td>\n",
       "    </tr>\n",
       "    <tr>\n",
       "      <th>2</th>\n",
       "      <td>2.5</td>\n",
       "      <td>2.6</td>\n",
       "      <td>4.0</td>\n",
       "      <td>3.2</td>\n",
       "      <td>4.1</td>\n",
       "    </tr>\n",
       "    <tr>\n",
       "      <th>3</th>\n",
       "      <td>2.6</td>\n",
       "      <td>2.9</td>\n",
       "      <td>3.6</td>\n",
       "      <td>2.5</td>\n",
       "      <td>3.9</td>\n",
       "    </tr>\n",
       "    <tr>\n",
       "      <th>4</th>\n",
       "      <td>2.9</td>\n",
       "      <td>1.9</td>\n",
       "      <td>4.2</td>\n",
       "      <td>4.4</td>\n",
       "      <td>4.8</td>\n",
       "    </tr>\n",
       "    <tr>\n",
       "      <th>...</th>\n",
       "      <td>...</td>\n",
       "      <td>...</td>\n",
       "      <td>...</td>\n",
       "      <td>...</td>\n",
       "      <td>...</td>\n",
       "    </tr>\n",
       "    <tr>\n",
       "      <th>1015336</th>\n",
       "      <td>3.4</td>\n",
       "      <td>3.3</td>\n",
       "      <td>3.6</td>\n",
       "      <td>2.9</td>\n",
       "      <td>3.3</td>\n",
       "    </tr>\n",
       "    <tr>\n",
       "      <th>1015337</th>\n",
       "      <td>3.2</td>\n",
       "      <td>4.4</td>\n",
       "      <td>3.7</td>\n",
       "      <td>2.8</td>\n",
       "      <td>4.5</td>\n",
       "    </tr>\n",
       "    <tr>\n",
       "      <th>1015338</th>\n",
       "      <td>3.9</td>\n",
       "      <td>2.9</td>\n",
       "      <td>3.1</td>\n",
       "      <td>2.1</td>\n",
       "      <td>4.8</td>\n",
       "    </tr>\n",
       "    <tr>\n",
       "      <th>1015339</th>\n",
       "      <td>2.2</td>\n",
       "      <td>3.5</td>\n",
       "      <td>3.7</td>\n",
       "      <td>3.6</td>\n",
       "      <td>4.1</td>\n",
       "    </tr>\n",
       "    <tr>\n",
       "      <th>1015340</th>\n",
       "      <td>3.9</td>\n",
       "      <td>2.9</td>\n",
       "      <td>3.8</td>\n",
       "      <td>2.6</td>\n",
       "      <td>4.7</td>\n",
       "    </tr>\n",
       "  </tbody>\n",
       "</table>\n",
       "<p>1015341 rows × 5 columns</p>\n",
       "</div>"
      ],
      "text/plain": [
       "         EXT  EST  AGR  CSN  OPN\n",
       "0        4.6  2.4  3.5  3.0  4.5\n",
       "1        2.0  2.5  4.2  3.7  3.5\n",
       "2        2.5  2.6  4.0  3.2  4.1\n",
       "3        2.6  2.9  3.6  2.5  3.9\n",
       "4        2.9  1.9  4.2  4.4  4.8\n",
       "...      ...  ...  ...  ...  ...\n",
       "1015336  3.4  3.3  3.6  2.9  3.3\n",
       "1015337  3.2  4.4  3.7  2.8  4.5\n",
       "1015338  3.9  2.9  3.1  2.1  4.8\n",
       "1015339  2.2  3.5  3.7  3.6  4.1\n",
       "1015340  3.9  2.9  3.8  2.6  4.7\n",
       "\n",
       "[1015341 rows x 5 columns]"
      ]
     },
     "execution_count": 4,
     "metadata": {},
     "output_type": "execute_result"
    }
   ],
   "source": [
    "bigv = pd.read_csv(\"./data/data.csv\")\n",
    "bigv"
   ]
  },
  {
   "cell_type": "markdown",
   "metadata": {},
   "source": [
    "# Clustering\n",
    "\n",
    "The k-means algorithm chose k points in the learning space, chosen tobe the center of each cluster; starting from one point, we select the nearest points and add them to the cluster.\n",
    "When all the points are in a group, we compute the centers of mass of each cluster (i.e. the average value), and restart the process.\n",
    "The process stops when the maximal number of iterations is reached or when no group changes between two launches."
   ]
  },
  {
   "cell_type": "code",
   "execution_count": 5,
   "metadata": {},
   "outputs": [],
   "source": [
    "kme = KMeans(n_clusters=5)\n",
    "# n_clusters represents the number of groups we want to form"
   ]
  },
  {
   "cell_type": "markdown",
   "metadata": {},
   "source": [
    "We apply k-means to the data"
   ]
  },
  {
   "cell_type": "code",
   "execution_count": 6,
   "metadata": {},
   "outputs": [
    {
     "data": {
      "text/plain": [
       "KMeans(algorithm='auto', copy_x=True, init='k-means++', max_iter=300,\n",
       "       n_clusters=5, n_init=10, n_jobs=None, precompute_distances='auto',\n",
       "       random_state=None, tol=0.0001, verbose=0)"
      ]
     },
     "execution_count": 6,
     "metadata": {},
     "output_type": "execute_result"
    }
   ],
   "source": [
    "kme.fit(bigv)"
   ]
  },
  {
   "cell_type": "markdown",
   "metadata": {},
   "source": [
    "At the end, we attribute a group number to each line"
   ]
  },
  {
   "cell_type": "code",
   "execution_count": 7,
   "metadata": {},
   "outputs": [
    {
     "data": {
      "text/plain": [
       "array([2, 4, 4, ..., 1, 0, 1], dtype=int32)"
      ]
     },
     "execution_count": 7,
     "metadata": {},
     "output_type": "execute_result"
    }
   ],
   "source": [
    "kme.labels_"
   ]
  },
  {
   "cell_type": "code",
   "execution_count": 11,
   "metadata": {
    "scrolled": true
   },
   "outputs": [
    {
     "data": {
      "text/plain": [
       "2"
      ]
     },
     "execution_count": 11,
     "metadata": {},
     "output_type": "execute_result"
    }
   ],
   "source": [
    "kme.labels_[0]"
   ]
  },
  {
   "cell_type": "markdown",
   "metadata": {},
   "source": [
    "As an example, the first line is in the third group (id=2)"
   ]
  },
  {
   "cell_type": "markdown",
   "metadata": {},
   "source": [
    "But unlike supervised learning, your job is not done yet...\n",
    "\n",
    "You have to describe your groups!"
   ]
  },
  {
   "cell_type": "markdown",
   "metadata": {},
   "source": [
    "To plot the results, I will project the data (from a 5 dimensions space) in two dimensions.\n",
    "\n",
    "To do that, I'll use a PCA (principal component analysis). But it's not mandatory to do so, you can plot each pair of variables and draw the same conclusions!\n",
    "\n",
    "FYI it's another way to reduce your learning space, but after the PCA, it will be harder to interpret the feature importance."
   ]
  },
  {
   "cell_type": "code",
   "execution_count": 19,
   "metadata": {},
   "outputs": [
    {
     "data": {
      "text/plain": [
       "array([[-1.68193929, -0.49678282],\n",
       "       [ 0.30312097,  0.94961915],\n",
       "       [-0.01223349,  0.47148575],\n",
       "       ...,\n",
       "       [-0.70980803, -0.60467532],\n",
       "       [ 0.74043692,  0.06692537],\n",
       "       [-0.88241996, -0.66733131]])"
      ]
     },
     "execution_count": 19,
     "metadata": {},
     "output_type": "execute_result"
    }
   ],
   "source": [
    "pca = PCA(n_components=2)\n",
    "pca.fit(bigv)\n",
    "res_pca = pca.transform(bigv)\n",
    "res_pca"
   ]
  },
  {
   "cell_type": "code",
   "execution_count": 21,
   "metadata": {},
   "outputs": [
    {
     "data": {
      "image/png": "[encoded data removed]",
      "text/plain": [
       "<Figure size 432x288 with 1 Axes>"
      ]
     },
     "metadata": {
      "needs_background": "light"
     },
     "output_type": "display_data"
    }
   ],
   "source": [
    "colors = ['yellow', 'blue', 'red', 'black', 'green']\n",
    "\n",
    "plt.scatter([res_pca[i][0] for i in range(len(res_pca))],\n",
    "            [res_pca[i][1] for i in range(len(res_pca))],\n",
    "            color = [colors[i] for i in kme.labels_])\n",
    "plt.xlabel()\n",
    "plt.show()"
   ]
  },
  {
   "cell_type": "markdown",
   "metadata": {},
   "source": [
    "Looks like an OS, right?\n",
    "\n",
    "Now, we want to describe each dimension (the x and the y).\n",
    "\n",
    "To describe the x, let's study the red group (id=2) and the yellow group (id=0).\n",
    "\n",
    "To describe the y, let's study the blue group (id=1) and the green and black groups (ids=3,4)"
   ]
  },
  {
   "cell_type": "code",
   "execution_count": 22,
   "metadata": {},
   "outputs": [],
   "source": [
    "bigv['groups'] = kme.labels_"
   ]
  },
  {
   "cell_type": "markdown",
   "metadata": {},
   "source": [
    "#### Group description"
   ]
  },
  {
   "cell_type": "code",
   "execution_count": 31,
   "metadata": {},
   "outputs": [
    {
     "data": {
      "text/html": [
       "<div>\n",
       "<style scoped>\n",
       "    .dataframe tbody tr th:only-of-type {\n",
       "        vertical-align: middle;\n",
       "    }\n",
       "\n",
       "    .dataframe tbody tr th {\n",
       "        vertical-align: top;\n",
       "    }\n",
       "\n",
       "    .dataframe thead th {\n",
       "        text-align: right;\n",
       "    }\n",
       "</style>\n",
       "<table border=\"1\" class=\"dataframe\">\n",
       "  <thead>\n",
       "    <tr style=\"text-align: right;\">\n",
       "      <th></th>\n",
       "      <th>EXT</th>\n",
       "      <th>EST</th>\n",
       "      <th>AGR</th>\n",
       "      <th>CSN</th>\n",
       "      <th>OPN</th>\n",
       "    </tr>\n",
       "    <tr>\n",
       "      <th>groups</th>\n",
       "      <th></th>\n",
       "      <th></th>\n",
       "      <th></th>\n",
       "      <th></th>\n",
       "      <th></th>\n",
       "    </tr>\n",
       "  </thead>\n",
       "  <tbody>\n",
       "    <tr>\n",
       "      <th>0</th>\n",
       "      <td>2.038741</td>\n",
       "      <td>3.924722</td>\n",
       "      <td>3.484178</td>\n",
       "      <td>3.098847</td>\n",
       "      <td>3.810939</td>\n",
       "    </tr>\n",
       "    <tr>\n",
       "      <th>1</th>\n",
       "      <td>3.619752</td>\n",
       "      <td>3.660152</td>\n",
       "      <td>3.764748</td>\n",
       "      <td>3.122909</td>\n",
       "      <td>4.093468</td>\n",
       "    </tr>\n",
       "    <tr>\n",
       "      <th>2</th>\n",
       "      <td>3.906132</td>\n",
       "      <td>2.188325</td>\n",
       "      <td>3.833259</td>\n",
       "      <td>3.490274</td>\n",
       "      <td>4.123190</td>\n",
       "    </tr>\n",
       "    <tr>\n",
       "      <th>3</th>\n",
       "      <td>2.925016</td>\n",
       "      <td>2.856951</td>\n",
       "      <td>3.348640</td>\n",
       "      <td>3.020764</td>\n",
       "      <td>3.023415</td>\n",
       "    </tr>\n",
       "    <tr>\n",
       "      <th>4</th>\n",
       "      <td>2.312565</td>\n",
       "      <td>2.453317</td>\n",
       "      <td>3.460064</td>\n",
       "      <td>3.474348</td>\n",
       "      <td>4.097027</td>\n",
       "    </tr>\n",
       "  </tbody>\n",
       "</table>\n",
       "</div>"
      ],
      "text/plain": [
       "             EXT       EST       AGR       CSN       OPN\n",
       "groups                                                  \n",
       "0       2.038741  3.924722  3.484178  3.098847  3.810939\n",
       "1       3.619752  3.660152  3.764748  3.122909  4.093468\n",
       "2       3.906132  2.188325  3.833259  3.490274  4.123190\n",
       "3       2.925016  2.856951  3.348640  3.020764  3.023415\n",
       "4       2.312565  2.453317  3.460064  3.474348  4.097027"
      ]
     },
     "execution_count": 31,
     "metadata": {},
     "output_type": "execute_result"
    }
   ],
   "source": [
    "bigv.groupby(\"groups\").mean()"
   ]
  },
  {
   "cell_type": "markdown",
   "metadata": {},
   "source": [
    "- Group 0 have low score in extraversion (2.03, the lowest of all groups), they are mostly introverts. But they have a high neuroticism score (3.92), they are sensitive, and may lack of confidence, even if they are opened to new challenges. See INFP in other personalities classifications, the empathic profile.\n",
    "\n",
    "- Group 2 members have the opposite personality profile. They are opened to new experiences and challenges (score OPN : 4.12), and say it out loud (EXT:3.96), without being scared (EST:2.18). They also have the highest agreableness score. It's a group with warm and explosive personalities ;)\n",
    "\n",
    "X is a gradient of extraversion; the bigger x values you have, the more extravert you are in life!\n",
    "\n",
    "- Group 1 and 3 are in the middle; group 1 is similar to group 2 in term of extraversion, but is way more sensitive in general. Group 3 and 4 are more introverts, but less sensitive.\n",
    "\n",
    "So what's this y dimension? I think that the biggest difference between 1 and 3 is the openess to new challenges. Group 3 members could be a bit afraid of new experiences, compared to group 1.\n",
    "Group 4 is difficult to interpret, that's the sign we should have chosen 4 groups?"
   ]
  },
  {
   "cell_type": "code",
   "execution_count": null,
   "metadata": {},
   "outputs": [],
   "source": []
  }
 ],
 "metadata": {
  "kernelspec": {
   "display_name": "Python 3",
   "language": "python",
   "name": "python3"
  },
  "language_info": {
   "codemirror_mode": {
    "name": "ipython",
    "version": 3
   },
   "file_extension": ".py",
   "mimetype": "text/x-python",
   "name": "python",
   "nbconvert_exporter": "python",
   "pygments_lexer": "ipython3",
   "version": "3.8.1"
  }
 },
 "nbformat": 4,
 "nbformat_minor": 4
}
